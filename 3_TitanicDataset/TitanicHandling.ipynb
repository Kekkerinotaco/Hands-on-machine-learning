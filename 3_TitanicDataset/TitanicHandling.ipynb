{
 "cells": [
  {
   "cell_type": "code",
   "execution_count": 5,
   "id": "c5ee4159",
   "metadata": {},
   "outputs": [],
   "source": [
    "import os\n",
    "import urllib.request\n",
    "\n",
    "dataset_path = os.path.join(\"datasets\", \"titanic\")\n",
    "download_URL = r\"https://raw.githubusercontent.com/ageron/handson-ml2/master/datasets/titanic/\""
   ]
  },
  {
   "cell_type": "code",
   "execution_count": null,
   "id": "331d832d",
   "metadata": {},
   "outputs": [],
   "source": [
    "def fetch_data(url=download_URL, path = dataset_path):\n",
    "    if not os.path.isdir(path):\n",
    "        os.mkdir(path)\n",
    "    for filename in (\"train.csv\", \"test.csv\"):\n",
    "        filepath = os,path,join(path, filename)\n",
    "        if not os.path.isfile(filepath):\n",
    "            print(\"Downloading {}\".format(filename))\n",
    "            url"
   ]
  }
 ],
 "metadata": {
  "kernelspec": {
   "display_name": "Python 3 (ipykernel)",
   "language": "python",
   "name": "python3"
  },
  "language_info": {
   "codemirror_mode": {
    "name": "ipython",
    "version": 3
   },
   "file_extension": ".py",
   "mimetype": "text/x-python",
   "name": "python",
   "nbconvert_exporter": "python",
   "pygments_lexer": "ipython3",
   "version": "3.9.7"
  }
 },
 "nbformat": 4,
 "nbformat_minor": 5
}
