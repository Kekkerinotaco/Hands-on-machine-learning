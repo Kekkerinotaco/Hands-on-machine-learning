{
 "cells": [
  {
   "cell_type": "markdown",
   "id": "eeda30db",
   "metadata": {},
   "source": [
    "# Getting the data"
   ]
  },
  {
   "cell_type": "code",
   "execution_count": 3,
   "id": "a25ad00d",
   "metadata": {},
   "outputs": [],
   "source": [
    "from sklearn.datasets import fetch_openml\n",
    "\n",
    "mnist = fetch_openml(\"mnist_784\", version=1)"
   ]
  },
  {
   "cell_type": "code",
   "execution_count": 5,
   "id": "8eeb88e7",
   "metadata": {},
   "outputs": [],
   "source": [
    "X, y = mnist[\"data\"], mnist[\"target\"]"
   ]
  },
  {
   "cell_type": "code",
   "execution_count": 6,
   "id": "d9ccfbd6",
   "metadata": {},
   "outputs": [],
   "source": [
    "x_train = X[:60000]\n",
    "x_test = X[60000:]\n",
    "y_train = y[:60000]\n",
    "y_test = y[60000:]"
   ]
  },
  {
   "cell_type": "code",
   "execution_count": 7,
   "id": "33220742",
   "metadata": {},
   "outputs": [],
   "source": [
    "from sklearn.neighbors import KNeighborsClassifier\n",
    "\n",
    "knn_clf = KNeighborsClassifier()"
   ]
  },
  {
   "cell_type": "code",
   "execution_count": 18,
   "id": "d848b706",
   "metadata": {},
   "outputs": [
    {
     "data": {
      "text/plain": [
       "{'algorithm': 'auto',\n",
       " 'leaf_size': 30,\n",
       " 'metric': 'minkowski',\n",
       " 'metric_params': None,\n",
       " 'n_jobs': None,\n",
       " 'n_neighbors': 5,\n",
       " 'p': 2,\n",
       " 'weights': 'uniform'}"
      ]
     },
     "execution_count": 18,
     "metadata": {},
     "output_type": "execute_result"
    }
   ],
   "source": [
    "knn_clf.get_params()"
   ]
  },
  {
   "cell_type": "code",
   "execution_count": 19,
   "id": "b1b4a112",
   "metadata": {},
   "outputs": [
    {
     "name": "stderr",
     "output_type": "stream",
     "text": [
      "/Library/Frameworks/Python.framework/Versions/3.9/lib/python3.9/site-packages/sklearn/model_selection/_validation.py:372: FitFailedWarning: \n",
      "16 fits failed out of a total of 48.\n",
      "The score on these train-test partitions for these parameters will be set to nan.\n",
      "If these failures are not expected, you can try to debug them by setting error_score='raise'.\n",
      "\n",
      "Below are more details about the failures:\n",
      "--------------------------------------------------------------------------------\n",
      "16 fits failed with the following error:\n",
      "Traceback (most recent call last):\n",
      "  File \"/Library/Frameworks/Python.framework/Versions/3.9/lib/python3.9/site-packages/sklearn/model_selection/_validation.py\", line 680, in _fit_and_score\n",
      "    estimator.fit(X_train, y_train, **fit_params)\n",
      "  File \"/Library/Frameworks/Python.framework/Versions/3.9/lib/python3.9/site-packages/sklearn/neighbors/_classification.py\", line 196, in fit\n",
      "    self.weights = _check_weights(self.weights)\n",
      "  File \"/Library/Frameworks/Python.framework/Versions/3.9/lib/python3.9/site-packages/sklearn/neighbors/_base.py\", line 82, in _check_weights\n",
      "    raise ValueError(\n",
      "ValueError: weights not recognized: should be 'uniform', 'distance', or a callable function\n",
      "\n",
      "  warnings.warn(some_fits_failed_message, FitFailedWarning)\n",
      "/Library/Frameworks/Python.framework/Versions/3.9/lib/python3.9/site-packages/sklearn/model_selection/_search.py:969: UserWarning: One or more of the test scores are non-finite: [0.9681     0.97131667        nan 0.9674     0.97071667        nan\n",
      " 0.9661     0.96885           nan 0.96425    0.96655           nan]\n",
      "  warnings.warn(\n"
     ]
    },
    {
     "data": {
      "text/plain": [
       "GridSearchCV(cv=4, estimator=KNeighborsClassifier(),\n",
       "             param_grid=[{'n_neighbors': [4, 6, 8, 10],\n",
       "                          'weights': ['uniform', 'distance', 'callable']}],\n",
       "             scoring='accuracy')"
      ]
     },
     "execution_count": 19,
     "metadata": {},
     "output_type": "execute_result"
    }
   ],
   "source": [
    "from sklearn.model_selection import GridSearchCV\n",
    "\n",
    "param_grid = [\n",
    "    {\"weights\": [\"uniform\", \"distance\", \"callable\"], \n",
    "     \"n_neighbors\": [4, 6, 8, 10]},\n",
    "]\n",
    "\n",
    "\n",
    "grid_search = GridSearchCV(knn_clf, param_grid, cv=3,\n",
    "                           scoring = \"accuracy\")\n",
    "\n",
    "grid_search.fit(x_train, y_train)"
   ]
  },
  {
   "cell_type": "code",
   "execution_count": 20,
   "id": "423ed51d",
   "metadata": {},
   "outputs": [],
   "source": [
    "final_estimator = grid_search.best_estimator_\n",
    "y_train_predicted = final_estimator.predict(x_train)"
   ]
  },
  {
   "cell_type": "code",
   "execution_count": 23,
   "id": "8a3fa992",
   "metadata": {},
   "outputs": [],
   "source": [
    "from sklearn.metrics import accuracy_score, precision_score, recall_score, confusion_matrix"
   ]
  },
  {
   "cell_type": "code",
   "execution_count": 26,
   "id": "233198b1",
   "metadata": {},
   "outputs": [],
   "source": [
    "def print_scores(predicted_values, actual_values):\n",
    "    print(\"Accuracy score is: {}\".format(accuracy_score(predicted_values, actual_values)))\n",
    "    print(\"Precision score is: {}\".format(precision_score(predicted_values, actual_values)))\n",
    "    print(\"Recall score is: {}\".format(recall_score(predicted_values, acutal_values)))\n"
   ]
  },
  {
   "cell_type": "code",
   "execution_count": 28,
   "id": "212ce996",
   "metadata": {},
   "outputs": [],
   "source": [
    "predicted_test_values = final_estimator.predict(x_test)"
   ]
  },
  {
   "cell_type": "code",
   "execution_count": 29,
   "id": "4c572692",
   "metadata": {},
   "outputs": [
    {
     "name": "stdout",
     "output_type": "stream",
     "text": [
      "0.9714\n"
     ]
    }
   ],
   "source": [
    "correct_values = (predicted_test_values == y_test)\n",
    "print(sum(correct_values) / len(correct_values))"
   ]
  },
  {
   "cell_type": "code",
   "execution_count": 37,
   "id": "4a2f29c2",
   "metadata": {},
   "outputs": [
    {
     "data": {
      "text/plain": [
       "array([[ 973,    1,    1,    0,    0,    1,    3,    1,    0,    0],\n",
       "       [   0, 1132,    2,    0,    0,    0,    1,    0,    0,    0],\n",
       "       [  10,    5,  995,    2,    1,    0,    0,   16,    3,    0],\n",
       "       [   0,    1,    3,  974,    1,   14,    1,    7,    4,    5],\n",
       "       [   1,    5,    0,    0,  950,    0,    4,    3,    0,   19],\n",
       "       [   4,    0,    0,    9,    2,  862,    7,    1,    3,    4],\n",
       "       [   4,    2,    0,    0,    3,    3,  946,    0,    0,    0],\n",
       "       [   0,   17,    4,    0,    3,    0,    0,  994,    0,   10],\n",
       "       [   5,    2,    4,   14,    5,   11,    4,    4,  920,    5],\n",
       "       [   3,    4,    2,    7,    9,    4,    1,   10,    1,  968]])"
      ]
     },
     "execution_count": 37,
     "metadata": {},
     "output_type": "execute_result"
    }
   ],
   "source": [
    "conf_mx = confusion_matrix(y_test, predicted_test_values)\n",
    "conf_mx"
   ]
  },
  {
   "cell_type": "code",
   "execution_count": 39,
   "id": "7fa8d8ed",
   "metadata": {},
   "outputs": [],
   "source": [
    "import matplotlib.pyplot as plt"
   ]
  },
  {
   "cell_type": "code",
   "execution_count": 40,
   "id": "1d0e3b0d",
   "metadata": {},
   "outputs": [
    {
     "data": {
      "image/png": "[encoded data removed]",
      "text/plain": [
       "<Figure size 288x288 with 1 Axes>"
      ]
     },
     "metadata": {
      "needs_background": "light"
     },
     "output_type": "display_data"
    }
   ],
   "source": [
    "plt.matshow(conf_mx, cmap=plt.cm.gray)\n",
    "plt.show()"
   ]
  },
  {
   "cell_type": "markdown",
   "id": "7157ae77",
   "metadata": {},
   "source": [
    "# The task is Done, accuracy = 0.9714"
   ]
  },
  {
   "cell_type": "code",
   "execution_count": null,
   "id": "73da0dab",
   "metadata": {},
   "outputs": [],
   "source": []
  }
 ],
 "metadata": {
  "kernelspec": {
   "display_name": "Python 3 (ipykernel)",
   "language": "python",
   "name": "python3"
  },
  "language_info": {
   "codemirror_mode": {
    "name": "ipython",
    "version": 3
   },
   "file_extension": ".py",
   "mimetype": "text/x-python",
   "name": "python",
   "nbconvert_exporter": "python",
   "pygments_lexer": "ipython3",
   "version": "3.9.10"
  }
 },
 "nbformat": 4,
 "nbformat_minor": 5
}
