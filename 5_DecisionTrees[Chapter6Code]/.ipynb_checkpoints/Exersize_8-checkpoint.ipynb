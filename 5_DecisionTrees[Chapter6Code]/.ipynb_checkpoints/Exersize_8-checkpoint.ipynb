{
 "cells": [
  {
   "cell_type": "markdown",
   "id": "72e09aa0",
   "metadata": {},
   "source": [
    "# Getting the Data"
   ]
  },
  {
   "cell_type": "code",
   "execution_count": 1,
   "id": "bb5cddd9",
   "metadata": {},
   "outputs": [],
   "source": [
    "from sklearn.datasets import make_moons\n",
    "\n",
    "moons = make_moons(n_samples=10000, noise=0.4)\n",
    "x = moons[0]\n",
    "y = moons[1]"
   ]
  },
  {
   "cell_type": "code",
   "execution_count": 2,
   "id": "be38f0fd",
   "metadata": {},
   "outputs": [],
   "source": [
    "from sklearn.tree import DecisionTreeClassifier\n",
    "\n",
    "tree_clf = DecisionTreeClassifier(max_depth=3)"
   ]
  },
  {
   "cell_type": "markdown",
   "id": "392e4e62",
   "metadata": {},
   "source": [
    "# Making a tonn of trees"
   ]
  },
  {
   "cell_type": "code",
   "execution_count": 3,
   "id": "f8188e55",
   "metadata": {},
   "outputs": [],
   "source": [
    "from sklearn.model_selection import ShuffleSplit\n",
    "from sklearn.model_selection import train_test_split\n",
    "\n",
    "n_trees = 1000\n",
    "n_instances = 100\n",
    "\n",
    "mini_sets = []\n",
    "\n",
    "x_train, x_test, y_train, y_test = train_test_split(x, y, test_size = 0.2)\n",
    "\n",
    "rs = ShuffleSplit(n_splits = n_trees, \n",
    "                  test_size=len(x_train) - n_instances,\n",
    "                  random_state = 42)\n",
    "\n",
    "for mini_train_index, mini_test_index in rs.split(x_train):\n",
    "    x_mini_train = x_train[mini_train_index]\n",
    "    y_mini_train = y_train[mini_train_index]\n",
    "    mini_sets.append((x_mini_train, y_mini_train))"
   ]
  },
  {
   "cell_type": "code",
   "execution_count": 4,
   "id": "8fb2a896",
   "metadata": {},
   "outputs": [],
   "source": [
    "from sklearn.base import clone\n",
    "from sklearn.metrics import accuracy_score\n",
    "\n",
    "\n",
    "forest = [clone(tree_clf) for _ in range(n_trees)]\n",
    "accuracy_scores = []\n",
    "\n",
    "for tree, (x_mini_train, y_mini_train) in zip(forest, mini_sets):\n",
    "    tree.fit(x_mini_train, y_mini_train)\n",
    "    y_hat = tree.predict(x_test)\n",
    "    accuracy_scores.append(accuracy_score(y_test, y_hat))"
   ]
  },
  {
   "cell_type": "code",
   "execution_count": 5,
   "id": "67b4aabd",
   "metadata": {},
   "outputs": [
    {
     "data": {
      "text/plain": [
       "0.8222059999999999"
      ]
     },
     "execution_count": 5,
     "metadata": {},
     "output_type": "execute_result"
    }
   ],
   "source": [
    "import numpy as np\n",
    "\n",
    "np.mean(accuracy_scores)"
   ]
  },
  {
   "cell_type": "markdown",
   "id": "a01476fe",
   "metadata": {},
   "source": [
    "# Combining the trees"
   ]
  },
  {
   "cell_type": "code",
   "execution_count": 6,
   "id": "0be9239e",
   "metadata": {},
   "outputs": [],
   "source": [
    "y_pred = np.empty([n_trees, len(x_test)], dtype=np.uint8)"
   ]
  },
  {
   "cell_type": "code",
   "execution_count": 7,
   "id": "465bb82f",
   "metadata": {},
   "outputs": [],
   "source": [
    "for tree_index, tree in enumerate(forest):\n",
    "    y_pred[tree_index] = tree.predict(x_test)"
   ]
  },
  {
   "cell_type": "code",
   "execution_count": 8,
   "id": "114bd192",
   "metadata": {},
   "outputs": [],
   "source": [
    "from scipy.stats import mode\n",
    "\n",
    "y_pred_majority_votes, n_votes = mode(y_pred, axis=0)"
   ]
  },
  {
   "cell_type": "code",
   "execution_count": 9,
   "id": "b0f3dc1c",
   "metadata": {},
   "outputs": [
    {
     "data": {
      "text/plain": [
       "0.849"
      ]
     },
     "execution_count": 9,
     "metadata": {},
     "output_type": "execute_result"
    }
   ],
   "source": [
    "accuracy_score(y_test, y_pred_majority_votes.reshape([-1]))"
   ]
  }
 ],
 "metadata": {
  "kernelspec": {
   "display_name": "Python 3 (ipykernel)",
   "language": "python",
   "name": "python3"
  },
  "language_info": {
   "codemirror_mode": {
    "name": "ipython",
    "version": 3
   },
   "file_extension": ".py",
   "mimetype": "text/x-python",
   "name": "python",
   "nbconvert_exporter": "python",
   "pygments_lexer": "ipython3",
   "version": "3.9.10"
  }
 },
 "nbformat": 4,
 "nbformat_minor": 5
}
