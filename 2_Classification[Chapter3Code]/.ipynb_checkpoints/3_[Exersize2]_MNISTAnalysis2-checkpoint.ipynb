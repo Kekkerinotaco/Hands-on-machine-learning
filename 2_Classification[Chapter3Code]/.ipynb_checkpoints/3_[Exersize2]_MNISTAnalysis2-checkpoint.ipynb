{
 "cells": [
  {
   "cell_type": "markdown",
   "id": "ac00aa96",
   "metadata": {},
   "source": [
    "# Task\n",
    "\n",
    "Write a function that can shift an MNIST image in any direction (left, right, up,\n",
    "or down) by one pixel.5 Then, for each image in the training set, create four shifted\n",
    "copies (one per direction) and add them to the training set. Finally, train your\n",
    "best model on this expanded training set and measure its accuracy on the test set.\n",
    "You should observe that your model performs even better now! This technique of\n",
    "artificially growing the training set is called data augmentation or training set\n",
    "expansion."
   ]
  },
  {
   "cell_type": "code",
   "execution_count": null,
   "id": "712e4c8a",
   "metadata": {},
   "outputs": [],
   "source": [
    "from sklearn.datasets import fetch_openml\n",
    "\n",
    "mnist = fetch_openml(\"mnist_784\", version=1)\n",
    "X, y = mnist[\"data\"], mnist[\"target\"]\n",
    "\n",
    "x_train = X[:60000]\n",
    "x_test = X[60000:]\n",
    "y_train = y[:60000]\n",
    "y_test = y[60000:]"
   ]
  },
  {
   "cell_type": "code",
   "execution_count": 2,
   "id": "1c84cd3c",
   "metadata": {},
   "outputs": [],
   "source": [
    "import matplotlib as mpl\n",
    "import matplotlib.pyplot as plt\n",
    "import numpy as np"
   ]
  },
  {
   "cell_type": "code",
   "execution_count": 3,
   "id": "c871c83a",
   "metadata": {},
   "outputs": [],
   "source": [
    "some_digit = x_train.iloc[4]\n",
    "some_digit = np.array(some_digit)\n",
    "some_digit_image = some_digit.reshape(28, 28)"
   ]
  },
  {
   "cell_type": "code",
   "execution_count": 24,
   "id": "23b63475",
   "metadata": {},
   "outputs": [
    {
     "name": "stderr",
     "output_type": "stream",
     "text": [
      "/var/folders/zs/lr774nl56f317p1kp7zdfxjc0000gn/T/ipykernel_29957/1644096645.py:1: DeprecationWarning: Please use `shift` from the `scipy.ndimage` namespace, the `scipy.ndimage.interpolation` namespace is deprecated.\n",
      "  from scipy.ndimage.interpolation import shift\n"
     ]
    }
   ],
   "source": [
    "from scipy.ndimage.interpolation import shift\n",
    "\n",
    "def shift_image(image, dx, dy):\n",
    "    shifted_digit = np.array(image)\n",
    "    shifted_digit = shifted_digit.reshape(28, 28)\n",
    "    shifted_image = shift(shifted_digit, [dy, dx], cval=0, mode=\"constant\")\n",
    "    return shifted_image.reshape(-1)"
   ]
  },
  {
   "cell_type": "code",
   "execution_count": 7,
   "id": "0100a18f",
   "metadata": {},
   "outputs": [],
   "source": [
    "shifted_down_image = shift_image(some_digit_image, 0, 5)\n",
    "shifted_left_image = shift_image(some_digit_image, -5, 0)"
   ]
  },
  {
   "cell_type": "code",
   "execution_count": 9,
   "id": "c6d12e33",
   "metadata": {},
   "outputs": [
    {
     "data": {
      "image/png": "[encoded data removed]",
      "text/plain": [
       "<Figure size 864x216 with 3 Axes>"
      ]
     },
     "metadata": {
      "needs_background": "light"
     },
     "output_type": "display_data"
    }
   ],
   "source": [
    "plt.figure(figsize=(12,3))\n",
    "plt.subplot(131)\n",
    "plt.title(\"Original\", fontsize=14)\n",
    "plt.imshow(some_digit_image.reshape(28, 28), interpolation=\"nearest\", cmap=\"Greys\")\n",
    "plt.subplot(132)\n",
    "plt.title(\"Shifted down\", fontsize=14)\n",
    "plt.imshow(shifted_down_image.reshape(28, 28), interpolation=\"nearest\", cmap=\"Greys\")\n",
    "plt.subplot(133)\n",
    "plt.title(\"Shifted left\", fontsize=14)\n",
    "plt.imshow(shifted_left_image.reshape(28, 28), interpolation=\"nearest\", cmap=\"Greys\")\n",
    "plt.show()"
   ]
  },
  {
   "cell_type": "code",
   "execution_count": 28,
   "id": "6bba431a",
   "metadata": {},
   "outputs": [],
   "source": [
    "x_train_shifted = [image for image in x_train.values]\n",
    "y_train_shifted = [label for label in y_train]\n",
    "\n",
    "for dx, dy in ((1, 0), (-1 ,0),(0,1),(0,-1)):\n",
    "    for image, label in zip(x_train.values, y_train):\n",
    "        shifted_image = shift_image(image, dx, dy)\n",
    "        x_train_shifted.append(shifted_image)\n",
    "        y_train_shifted.append(label)\n",
    "        \n",
    "x_train_shifted = np.array(x_train_shifted)\n",
    "y_train_shifted = np.array(y_train_shifted)"
   ]
  },
  {
   "cell_type": "code",
   "execution_count": 58,
   "id": "854b93f7",
   "metadata": {},
   "outputs": [],
   "source": [
    "some_digit_1 = x_train_shifted[290000]\n",
    "some_digit_2 = x_train_shifted[290001]\n",
    "some_digit_3 = x_train_shifted[290002]\n",
    "some_digit_4 = x_train_shifted[290003]"
   ]
  },
  {
   "cell_type": "code",
   "execution_count": 59,
   "id": "58f8471c",
   "metadata": {},
   "outputs": [],
   "source": [
    "def plot_digit(digit):\n",
    "    digit = np.array(digit)\n",
    "    plt.figure(figsize=(12,3))\n",
    "    plt.imshow(digit.reshape(28, 28), interpolation=\"nearest\", cmap=\"Greys\")\n",
    "    plt.show()"
   ]
  },
  {
   "cell_type": "code",
   "execution_count": 60,
   "id": "32f96aca",
   "metadata": {},
   "outputs": [
    {
     "name": "stdout",
     "output_type": "stream",
     "text": [
      "(300000, 784)\n"
     ]
    }
   ],
   "source": [
    "print(x_train_shifted.shape)"
   ]
  },
  {
   "cell_type": "code",
   "execution_count": 61,
   "id": "736f24a4",
   "metadata": {},
   "outputs": [
    {
     "data": {
      "image/png": "[encoded data removed]",
      "text/plain": [
       "<Figure size 864x216 with 1 Axes>"
      ]
     },
     "metadata": {
      "needs_background": "light"
     },
     "output_type": "display_data"
    },
    {
     "data": {
      "image/png": "[encoded data removed]",
      "text/plain": [
       "<Figure size 864x216 with 1 Axes>"
      ]
     },
     "metadata": {
      "needs_background": "light"
     },
     "output_type": "display_data"
    },
    {
     "data": {
      "image/png": "[encoded data removed]",
      "text/plain": [
       "<Figure size 864x216 with 1 Axes>"
      ]
     },
     "metadata": {
      "needs_background": "light"
     },
     "output_type": "display_data"
    },
    {
     "data": {
      "image/png": "[encoded data removed]",
      "text/plain": [
       "<Figure size 864x216 with 1 Axes>"
      ]
     },
     "metadata": {
      "needs_background": "light"
     },
     "output_type": "display_data"
    }
   ],
   "source": [
    "plot_digit(some_digit_1)\n",
    "plot_digit(some_digit_2)\n",
    "plot_digit(some_digit_3)\n",
    "plot_digit(some_digit_4)"
   ]
  },
  {
   "cell_type": "code",
   "execution_count": 73,
   "id": "7ea55a3c",
   "metadata": {},
   "outputs": [],
   "source": [
    "from sklearn.neighbors import KNeighborsClassifier\n",
    "\n",
    "knn_clf = KNeighborsClassifier(n_neighbors =  4,\n",
    "                               weights = \"distance\")\n"
   ]
  },
  {
   "cell_type": "code",
   "execution_count": 74,
   "id": "dc2937c9",
   "metadata": {},
   "outputs": [
    {
     "name": "stdout",
     "output_type": "stream",
     "text": [
      "(300000, 784)\n",
      "(300000,)\n"
     ]
    }
   ],
   "source": [
    "print(x_train_shifted.shape)\n",
    "print(y_train_shifted.shape)"
   ]
  },
  {
   "cell_type": "code",
   "execution_count": 75,
   "id": "f6a545c6",
   "metadata": {},
   "outputs": [
    {
     "data": {
      "text/plain": [
       "KNeighborsClassifier(n_neighbors=4, weights='distance')"
      ]
     },
     "execution_count": 75,
     "metadata": {},
     "output_type": "execute_result"
    }
   ],
   "source": [
    "knn_clf.fit(x_train_shifted, y_train_shifted)"
   ]
  },
  {
   "cell_type": "code",
   "execution_count": 77,
   "id": "d0c0f570",
   "metadata": {},
   "outputs": [],
   "source": [
    "from sklearn.metrics import accuracy_score"
   ]
  },
  {
   "cell_type": "code",
   "execution_count": 78,
   "id": "2954b00f",
   "metadata": {},
   "outputs": [
    {
     "name": "stderr",
     "output_type": "stream",
     "text": [
      "/Library/Frameworks/Python.framework/Versions/3.9/lib/python3.9/site-packages/sklearn/base.py:443: UserWarning: X has feature names, but KNeighborsClassifier was fitted without feature names\n",
      "  warnings.warn(\n"
     ]
    },
    {
     "data": {
      "text/plain": [
       "0.9763"
      ]
     },
     "execution_count": 78,
     "metadata": {},
     "output_type": "execute_result"
    }
   ],
   "source": [
    "y_pred = knn_clf.predict(x_test)\n",
    "accuracy_score(y_test, y_pred)"
   ]
  },
  {
   "cell_type": "code",
   "execution_count": null,
   "id": "75aaa6dc",
   "metadata": {},
   "outputs": [],
   "source": []
  }
 ],
 "metadata": {
  "kernelspec": {
   "display_name": "Python 3 (ipykernel)",
   "language": "python",
   "name": "python3"
  },
  "language_info": {
   "codemirror_mode": {
    "name": "ipython",
    "version": 3
   },
   "file_extension": ".py",
   "mimetype": "text/x-python",
   "name": "python",
   "nbconvert_exporter": "python",
   "pygments_lexer": "ipython3",
   "version": "3.9.10"
  }
 },
 "nbformat": 4,
 "nbformat_minor": 5
}
