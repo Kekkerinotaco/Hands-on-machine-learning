{
 "cells": [
  {
   "cell_type": "markdown",
   "id": "c604b5c0",
   "metadata": {},
   "source": [
    "# Exersize = classificate MNIST dataset to have 98%+ accuracy"
   ]
  },
  {
   "cell_type": "code",
   "execution_count": 1,
   "id": "3c084249",
   "metadata": {},
   "outputs": [],
   "source": [
    "import tensorflow as tf\n",
    "from tensorflow import keras"
   ]
  },
  {
   "cell_type": "code",
   "execution_count": 2,
   "id": "93d3f48a",
   "metadata": {},
   "outputs": [
    {
     "name": "stdout",
     "output_type": "stream",
     "text": [
      "Downloading data from https://storage.googleapis.com/tensorflow/tf-keras-datasets/mnist.npz\n",
      "11490434/11490434 [==============================] - 1s 0us/step\n"
     ]
    }
   ],
   "source": [
    "(X_train_full, y_train_full), (X_test, y_test) = keras.datasets.mnist.load_data()"
   ]
  },
  {
   "cell_type": "code",
   "execution_count": 58,
   "id": "ec162050",
   "metadata": {},
   "outputs": [],
   "source": [
    "X_train, X_val = X_train_full[:50000]/255, X_train_full[50000:]/255\n",
    "y_train, y_val = y_train_full[:50000], y_train_full[50000:]\n",
    "X_test = X_test/255"
   ]
  },
  {
   "cell_type": "code",
   "execution_count": 59,
   "id": "678c7b4e",
   "metadata": {},
   "outputs": [
    {
     "data": {
      "text/plain": [
       "(50000,)"
      ]
     },
     "execution_count": 59,
     "metadata": {},
     "output_type": "execute_result"
    }
   ],
   "source": [
    "y_train.shape"
   ]
  },
  {
   "cell_type": "code",
   "execution_count": 60,
   "id": "d0da2c56",
   "metadata": {},
   "outputs": [],
   "source": [
    "class ExponentialLearningRate(keras.callbacks.Callback):\n",
    "    def __init__(self, factor):\n",
    "        self.factor = factor\n",
    "        self.rates = []\n",
    "        self.losses = []\n",
    "    def on_batch_end(self, batch, logs):\n",
    "        self.rates.append(keras.backend.get_value(self.model.optimizer.learning_rate))\n",
    "        self.losses.append(logs[\"loss\"])\n",
    "        keras.backend.set_value(self.model.optimizer.learning_rate, self.model.optimizer.learning_rate * self.factor)"
   ]
  },
  {
   "cell_type": "code",
   "execution_count": 61,
   "id": "453b8d51",
   "metadata": {},
   "outputs": [],
   "source": [
    "import numpy as np\n",
    "\n",
    "keras.backend.clear_session()\n",
    "np.random.seed(42)\n",
    "tf.random.set_seed(42)"
   ]
  },
  {
   "cell_type": "code",
   "execution_count": 62,
   "id": "177decbd",
   "metadata": {},
   "outputs": [],
   "source": [
    "model = keras.models.Sequential([\n",
    "    keras.layers.Flatten(input_shape=[28, 28]),\n",
    "    keras.layers.Dense(300, activation=\"relu\"),\n",
    "    keras.layers.Dense(100, activation=\"relu\"),\n",
    "    keras.layers.Dense(10, activation=\"softmax\")\n",
    "])"
   ]
  },
  {
   "cell_type": "code",
   "execution_count": 63,
   "id": "d9711aa2",
   "metadata": {},
   "outputs": [],
   "source": [
    "model.compile(loss=\"sparse_categorical_crossentropy\",\n",
    "              optimizer=keras.optimizers.SGD(learning_rate=3e-1),\n",
    "              metrics=[\"accuracy\"])"
   ]
  },
  {
   "cell_type": "code",
   "execution_count": 64,
   "id": "8f5bf7bf",
   "metadata": {},
   "outputs": [
    {
     "data": {
      "text/plain": [
       "'.\\\\my_mnist_logs\\\\run_001'"
      ]
     },
     "execution_count": 64,
     "metadata": {},
     "output_type": "execute_result"
    }
   ],
   "source": [
    "import os\n",
    "\n",
    "run_index = 1 # increment this at every run\n",
    "run_logdir = os.path.join(os.curdir, \"my_mnist_logs\", \"run_{:03d}\".format(run_index))\n",
    "run_logdir"
   ]
  },
  {
   "cell_type": "code",
   "execution_count": null,
   "id": "1052f22c",
   "metadata": {},
   "outputs": [
    {
     "name": "stdout",
     "output_type": "stream",
     "text": [
      "Epoch 1/100\n",
      "1563/1563 [==============================] - 4s 2ms/step - loss: 0.2429 - accuracy: 0.9241 - val_loss: 0.1350 - val_accuracy: 0.9595\n",
      "Epoch 2/100\n",
      "1563/1563 [==============================] - 3s 2ms/step - loss: 0.1012 - accuracy: 0.9688 - val_loss: 0.1032 - val_accuracy: 0.9689\n",
      "Epoch 3/100\n",
      "1563/1563 [==============================] - 3s 2ms/step - loss: 0.0678 - accuracy: 0.9782 - val_loss: 0.1002 - val_accuracy: 0.9712\n",
      "Epoch 4/100\n",
      "1563/1563 [==============================] - 3s 2ms/step - loss: 0.0502 - accuracy: 0.9845 - val_loss: 0.1028 - val_accuracy: 0.9712\n",
      "Epoch 5/100\n",
      "1563/1563 [==============================] - 3s 2ms/step - loss: 0.0392 - accuracy: 0.9874 - val_loss: 0.0897 - val_accuracy: 0.9766\n",
      "Epoch 6/100\n",
      "1563/1563 [==============================] - 3s 2ms/step - loss: 0.0259 - accuracy: 0.9917 - val_loss: 0.1080 - val_accuracy: 0.9747\n",
      "Epoch 7/100\n",
      "1563/1563 [==============================] - 3s 2ms/step - loss: 0.0204 - accuracy: 0.9929 - val_loss: 0.0921 - val_accuracy: 0.9793\n",
      "Epoch 8/100\n",
      "1563/1563 [==============================] - 3s 2ms/step - loss: 0.0168 - accuracy: 0.9943 - val_loss: 0.0899 - val_accuracy: 0.9795\n",
      "Epoch 9/100\n",
      "1563/1563 [==============================] - 3s 2ms/step - loss: 0.0131 - accuracy: 0.9956 - val_loss: 0.0906 - val_accuracy: 0.9808\n",
      "Epoch 10/100\n",
      "1563/1563 [==============================] - 3s 2ms/step - loss: 0.0123 - accuracy: 0.9960 - val_loss: 0.1159 - val_accuracy: 0.9749\n",
      "Epoch 11/100\n",
      "1563/1563 [==============================] - 3s 2ms/step - loss: 0.0115 - accuracy: 0.9966 - val_loss: 0.0951 - val_accuracy: 0.9797\n",
      "Epoch 12/100\n",
      "1563/1563 [==============================] - 3s 2ms/step - loss: 0.0093 - accuracy: 0.9969 - val_loss: 0.1064 - val_accuracy: 0.9788\n",
      "Epoch 13/100\n",
      "1563/1563 [==============================] - 3s 2ms/step - loss: 0.0141 - accuracy: 0.9950 - val_loss: 0.1170 - val_accuracy: 0.9770\n",
      "Epoch 14/100\n",
      "1563/1563 [==============================] - 3s 2ms/step - loss: 0.0119 - accuracy: 0.9964 - val_loss: 0.1054 - val_accuracy: 0.9795\n",
      "Epoch 15/100\n",
      "1563/1563 [==============================] - 3s 2ms/step - loss: 0.0061 - accuracy: 0.9980 - val_loss: 0.1031 - val_accuracy: 0.9810\n",
      "Epoch 16/100\n",
      "1563/1563 [==============================] - 3s 2ms/step - loss: 0.0090 - accuracy: 0.9970 - val_loss: 0.1096 - val_accuracy: 0.9793\n",
      "Epoch 17/100\n",
      "1563/1563 [==============================] - 3s 2ms/step - loss: 0.0047 - accuracy: 0.9985 - val_loss: 0.0988 - val_accuracy: 0.9833\n",
      "Epoch 18/100\n",
      "1563/1563 [==============================] - 3s 2ms/step - loss: 5.6580e-04 - accuracy: 0.9999 - val_loss: 0.1043 - val_accuracy: 0.9825\n",
      "Epoch 19/100\n",
      "1563/1563 [==============================] - 3s 2ms/step - loss: 2.2739e-04 - accuracy: 1.0000 - val_loss: 0.1021 - val_accuracy: 0.9833\n",
      "Epoch 20/100\n",
      "1556/1563 [============================>.] - ETA: 0s - loss: 9.1464e-05 - accuracy: 1.0000"
     ]
    }
   ],
   "source": [
    "early_stopping_cb = keras.callbacks.EarlyStopping(patience=20)\n",
    "checkpoint_cb = keras.callbacks.ModelCheckpoint(\"my_mnist_model.h5\", save_best_only=True)\n",
    "tensorboard_cb = keras.callbacks.TensorBoard(run_logdir)\n",
    "\n",
    "history = model.fit(X_train, y_train, epochs=100,\n",
    "                    validation_data=(X_val, y_val),\n",
    "                    callbacks=[checkpoint_cb, early_stopping_cb, tensorboard_cb])"
   ]
  },
  {
   "cell_type": "code",
   "execution_count": null,
   "id": "54c9b22c",
   "metadata": {},
   "outputs": [],
   "source": []
  }
 ],
 "metadata": {
  "kernelspec": {
   "display_name": "Python 3 (ipykernel)",
   "language": "python",
   "name": "python3"
  },
  "language_info": {
   "codemirror_mode": {
    "name": "ipython",
    "version": 3
   },
   "file_extension": ".py",
   "mimetype": "text/x-python",
   "name": "python",
   "nbconvert_exporter": "python",
   "pygments_lexer": "ipython3",
   "version": "3.9.10"
  }
 },
 "nbformat": 4,
 "nbformat_minor": 5
}
