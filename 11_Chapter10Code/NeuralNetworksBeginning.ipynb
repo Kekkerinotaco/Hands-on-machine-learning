{
 "cells": [
  {
   "cell_type": "code",
   "execution_count": 1,
   "id": "46d4434d",
   "metadata": {},
   "outputs": [],
   "source": [
    "import numpy as np\n",
    "from sklearn.datasets import load_iris\n",
    "from sklearn.linear_model import Perceptron\n",
    "\n",
    "iris = load_iris()\n",
    "X = iris.data[:, (2, 3)]\n",
    "y = (iris.target == 0)"
   ]
  },
  {
   "cell_type": "code",
   "execution_count": 2,
   "id": "fa039b00",
   "metadata": {},
   "outputs": [
    {
     "data": {
      "text/plain": [
       "array([ True,  True,  True,  True,  True,  True,  True,  True,  True,\n",
       "        True,  True,  True,  True,  True,  True,  True,  True,  True,\n",
       "        True,  True,  True,  True,  True,  True,  True,  True,  True,\n",
       "        True,  True,  True,  True,  True,  True,  True,  True,  True,\n",
       "        True,  True,  True,  True,  True,  True,  True,  True,  True,\n",
       "        True,  True,  True,  True,  True, False, False, False, False,\n",
       "       False, False, False, False, False, False, False, False, False,\n",
       "       False, False, False, False, False, False, False, False, False,\n",
       "       False, False, False, False, False, False, False, False, False,\n",
       "       False, False, False, False, False, False, False, False, False,\n",
       "       False, False, False, False, False, False, False, False, False,\n",
       "       False, False, False, False, False, False, False, False, False,\n",
       "       False, False, False, False, False, False, False, False, False,\n",
       "       False, False, False, False, False, False, False, False, False,\n",
       "       False, False, False, False, False, False, False, False, False,\n",
       "       False, False, False, False, False, False, False, False, False,\n",
       "       False, False, False, False, False, False])"
      ]
     },
     "execution_count": 2,
     "metadata": {},
     "output_type": "execute_result"
    }
   ],
   "source": [
    "y"
   ]
  },
  {
   "cell_type": "code",
   "execution_count": 3,
   "id": "530db4c3",
   "metadata": {},
   "outputs": [
    {
     "data": {
      "text/html": [
       "<style>#sk-container-id-1 {color: black;background-color: white;}#sk-container-id-1 pre{padding: 0;}#sk-container-id-1 div.sk-toggleable {background-color: white;}#sk-container-id-1 label.sk-toggleable__label {cursor: pointer;display: block;width: 100%;margin-bottom: 0;padding: 0.3em;box-sizing: border-box;text-align: center;}#sk-container-id-1 label.sk-toggleable__label-arrow:before {content: \"▸\";float: left;margin-right: 0.25em;color: #696969;}#sk-container-id-1 label.sk-toggleable__label-arrow:hover:before {color: black;}#sk-container-id-1 div.sk-estimator:hover label.sk-toggleable__label-arrow:before {color: black;}#sk-container-id-1 div.sk-toggleable__content {max-height: 0;max-width: 0;overflow: hidden;text-align: left;background-color: #f0f8ff;}#sk-container-id-1 div.sk-toggleable__content pre {margin: 0.2em;color: black;border-radius: 0.25em;background-color: #f0f8ff;}#sk-container-id-1 input.sk-toggleable__control:checked~div.sk-toggleable__content {max-height: 200px;max-width: 100%;overflow: auto;}#sk-container-id-1 input.sk-toggleable__control:checked~label.sk-toggleable__label-arrow:before {content: \"▾\";}#sk-container-id-1 div.sk-estimator input.sk-toggleable__control:checked~label.sk-toggleable__label {background-color: #d4ebff;}#sk-container-id-1 div.sk-label input.sk-toggleable__control:checked~label.sk-toggleable__label {background-color: #d4ebff;}#sk-container-id-1 input.sk-hidden--visually {border: 0;clip: rect(1px 1px 1px 1px);clip: rect(1px, 1px, 1px, 1px);height: 1px;margin: -1px;overflow: hidden;padding: 0;position: absolute;width: 1px;}#sk-container-id-1 div.sk-estimator {font-family: monospace;background-color: #f0f8ff;border: 1px dotted black;border-radius: 0.25em;box-sizing: border-box;margin-bottom: 0.5em;}#sk-container-id-1 div.sk-estimator:hover {background-color: #d4ebff;}#sk-container-id-1 div.sk-parallel-item::after {content: \"\";width: 100%;border-bottom: 1px solid gray;flex-grow: 1;}#sk-container-id-1 div.sk-label:hover label.sk-toggleable__label {background-color: #d4ebff;}#sk-container-id-1 div.sk-serial::before {content: \"\";position: absolute;border-left: 1px solid gray;box-sizing: border-box;top: 0;bottom: 0;left: 50%;z-index: 0;}#sk-container-id-1 div.sk-serial {display: flex;flex-direction: column;align-items: center;background-color: white;padding-right: 0.2em;padding-left: 0.2em;position: relative;}#sk-container-id-1 div.sk-item {position: relative;z-index: 1;}#sk-container-id-1 div.sk-parallel {display: flex;align-items: stretch;justify-content: center;background-color: white;position: relative;}#sk-container-id-1 div.sk-item::before, #sk-container-id-1 div.sk-parallel-item::before {content: \"\";position: absolute;border-left: 1px solid gray;box-sizing: border-box;top: 0;bottom: 0;left: 50%;z-index: -1;}#sk-container-id-1 div.sk-parallel-item {display: flex;flex-direction: column;z-index: 1;position: relative;background-color: white;}#sk-container-id-1 div.sk-parallel-item:first-child::after {align-self: flex-end;width: 50%;}#sk-container-id-1 div.sk-parallel-item:last-child::after {align-self: flex-start;width: 50%;}#sk-container-id-1 div.sk-parallel-item:only-child::after {width: 0;}#sk-container-id-1 div.sk-dashed-wrapped {border: 1px dashed gray;margin: 0 0.4em 0.5em 0.4em;box-sizing: border-box;padding-bottom: 0.4em;background-color: white;}#sk-container-id-1 div.sk-label label {font-family: monospace;font-weight: bold;display: inline-block;line-height: 1.2em;}#sk-container-id-1 div.sk-label-container {text-align: center;}#sk-container-id-1 div.sk-container {/* jupyter's `normalize.less` sets `[hidden] { display: none; }` but bootstrap.min.css set `[hidden] { display: none !important; }` so we also need the `!important` here to be able to override the default hidden behavior on the sphinx rendered scikit-learn.org. See: https://github.com/scikit-learn/scikit-learn/issues/21755 */display: inline-block !important;position: relative;}#sk-container-id-1 div.sk-text-repr-fallback {display: none;}</style><div id=\"sk-container-id-1\" class=\"sk-top-container\"><div class=\"sk-text-repr-fallback\"><pre>Perceptron()</pre><b>In a Jupyter environment, please rerun this cell to show the HTML representation or trust the notebook. <br />On GitHub, the HTML representation is unable to render, please try loading this page with nbviewer.org.</b></div><div class=\"sk-container\" hidden><div class=\"sk-item\"><div class=\"sk-estimator sk-toggleable\"><input class=\"sk-toggleable__control sk-hidden--visually\" id=\"sk-estimator-id-1\" type=\"checkbox\" checked><label for=\"sk-estimator-id-1\" class=\"sk-toggleable__label sk-toggleable__label-arrow\">Perceptron</label><div class=\"sk-toggleable__content\"><pre>Perceptron()</pre></div></div></div></div></div>"
      ],
      "text/plain": [
       "Perceptron()"
      ]
     },
     "execution_count": 3,
     "metadata": {},
     "output_type": "execute_result"
    }
   ],
   "source": [
    "per_clf = Perceptron()\n",
    "per_clf.fit(X, y)"
   ]
  },
  {
   "cell_type": "code",
   "execution_count": 4,
   "id": "39baa152",
   "metadata": {},
   "outputs": [],
   "source": [
    "y_hat = per_clf.predict([[2, 0.5]])"
   ]
  },
  {
   "cell_type": "markdown",
   "id": "cab3e81f",
   "metadata": {},
   "source": [
    "# Making first steps with tensorflow"
   ]
  },
  {
   "cell_type": "code",
   "execution_count": 5,
   "id": "fc7a5506",
   "metadata": {},
   "outputs": [
    {
     "data": {
      "text/plain": [
       "'2.9.1'"
      ]
     },
     "execution_count": 5,
     "metadata": {},
     "output_type": "execute_result"
    }
   ],
   "source": [
    "import tensorflow as tf\n",
    "from tensorflow import keras\n",
    "\n",
    "tf.__version__"
   ]
  },
  {
   "cell_type": "code",
   "execution_count": 6,
   "id": "55c3c336",
   "metadata": {},
   "outputs": [
    {
     "data": {
      "text/plain": [
       "'2.9.0'"
      ]
     },
     "execution_count": 6,
     "metadata": {},
     "output_type": "execute_result"
    }
   ],
   "source": [
    "keras.__version__"
   ]
  },
  {
   "cell_type": "markdown",
   "id": "dd80f9f9",
   "metadata": {},
   "source": [
    "### Working with fashion mnist dataset"
   ]
  },
  {
   "cell_type": "code",
   "execution_count": 7,
   "id": "327210f7",
   "metadata": {},
   "outputs": [],
   "source": [
    "fashion_mnist = keras.datasets.fashion_mnist"
   ]
  },
  {
   "cell_type": "code",
   "execution_count": 8,
   "id": "68d24bcf",
   "metadata": {},
   "outputs": [],
   "source": [
    "(X_train_full, y_train_full), (X_test, y_test) = fashion_mnist.load_data()"
   ]
  },
  {
   "cell_type": "code",
   "execution_count": null,
   "id": "61fe8948",
   "metadata": {},
   "outputs": [],
   "source": []
  },
  {
   "cell_type": "code",
   "execution_count": 9,
   "id": "f1ba53a3",
   "metadata": {},
   "outputs": [
    {
     "data": {
      "text/plain": [
       "(60000, 28, 28)"
      ]
     },
     "execution_count": 9,
     "metadata": {},
     "output_type": "execute_result"
    }
   ],
   "source": [
    "X_train_full.shape"
   ]
  },
  {
   "cell_type": "code",
   "execution_count": 10,
   "id": "ceacdf66",
   "metadata": {},
   "outputs": [
    {
     "data": {
      "text/plain": [
       "(10000, 28, 28)"
      ]
     },
     "execution_count": 10,
     "metadata": {},
     "output_type": "execute_result"
    }
   ],
   "source": [
    "X_test.shape"
   ]
  },
  {
   "cell_type": "code",
   "execution_count": 11,
   "id": "260da251",
   "metadata": {},
   "outputs": [],
   "source": [
    "X_train, X_val = X_train_full[5000:]/ 255, X_train_full[:5000]/ 255\n",
    "y_train, y_val = y_train_full[5000:], y_train_full[:5000]"
   ]
  },
  {
   "cell_type": "code",
   "execution_count": 12,
   "id": "bba37ca8",
   "metadata": {},
   "outputs": [],
   "source": [
    "class_names = [\"T-shirt/top\", \"Trouser\", \"Pullover\", \"Dress\", \"Coat\",\n",
    "\"Sandal\", \"Shirt\", \"Sneaker\", \"Bag\", \"Ankle boot\"]"
   ]
  },
  {
   "cell_type": "code",
   "execution_count": 13,
   "id": "ce3c8ea3",
   "metadata": {},
   "outputs": [],
   "source": [
    "something = X_train[0]"
   ]
  },
  {
   "cell_type": "code",
   "execution_count": 14,
   "id": "2ca54a83",
   "metadata": {},
   "outputs": [],
   "source": [
    "import matplotlib as mpl\n",
    "import matplotlib.pyplot as plt\n",
    "import numpy as np\n",
    "\n",
    "def show_image(image):\n",
    "    plt.imshow(image, cmap=\"binary\")\n",
    "    plt.axis(\"off\")\n",
    "    plt.show()"
   ]
  },
  {
   "cell_type": "code",
   "execution_count": 15,
   "id": "2e33c8b7",
   "metadata": {},
   "outputs": [
    {
     "data": {
      "image/png": "[encoded data removed]",
      "text/plain": [
       "<Figure size 432x288 with 1 Axes>"
      ]
     },
     "metadata": {
      "needs_background": "light"
     },
     "output_type": "display_data"
    }
   ],
   "source": [
    "show_image(X_train[0])"
   ]
  },
  {
   "cell_type": "code",
   "execution_count": 16,
   "id": "de311e5e",
   "metadata": {},
   "outputs": [
    {
     "data": {
      "image/png": "[encoded data removed]",
      "text/plain": [
       "<Figure size 432x288 with 1 Axes>"
      ]
     },
     "metadata": {
      "needs_background": "light"
     },
     "output_type": "display_data"
    }
   ],
   "source": [
    "show_image(X_train[1])"
   ]
  },
  {
   "cell_type": "code",
   "execution_count": 17,
   "id": "e7e8a057",
   "metadata": {},
   "outputs": [
    {
     "data": {
      "image/png": "[encoded data removed]",
      "text/plain": [
       "<Figure size 432x288 with 1 Axes>"
      ]
     },
     "metadata": {
      "needs_background": "light"
     },
     "output_type": "display_data"
    }
   ],
   "source": [
    "show_image(X_train[99])"
   ]
  },
  {
   "cell_type": "code",
   "execution_count": 18,
   "id": "f91bf9f0",
   "metadata": {},
   "outputs": [
    {
     "data": {
      "image/png": "[encoded data removed]",
      "text/plain": [
       "<Figure size 432x288 with 1 Axes>"
      ]
     },
     "metadata": {
      "needs_background": "light"
     },
     "output_type": "display_data"
    }
   ],
   "source": [
    "show_image(X_train[20000])"
   ]
  },
  {
   "cell_type": "code",
   "execution_count": 19,
   "id": "7743a366",
   "metadata": {},
   "outputs": [],
   "source": [
    "model = keras.models.Sequential()\n",
    "model.add(keras.layers.Flatten(input_shape=[28, 28]))\n",
    "model.add(keras.layers.Dense(300, activation=\"relu\"))\n",
    "model.add(keras.layers.Dense(100, activation=\"relu\"))\n",
    "model.add(keras.layers.Dense(10, activation=\"softmax\"))"
   ]
  },
  {
   "cell_type": "code",
   "execution_count": 20,
   "id": "b4d57bae",
   "metadata": {},
   "outputs": [],
   "source": [
    "# another style of building a model\n",
    "\n",
    "model = keras.models.Sequential([\n",
    "    keras.layers.Flatten(input_shape=[28, 28]),\n",
    "    keras.layers.Dense(300, activation=\"relu\"),\n",
    "    keras.layers.Dense(100, activation=\"relu\"),\n",
    "    keras.layers.Dense(10, activation=\"softmax\")\n",
    "])"
   ]
  },
  {
   "cell_type": "code",
   "execution_count": 21,
   "id": "c54a58f4",
   "metadata": {},
   "outputs": [
    {
     "name": "stdout",
     "output_type": "stream",
     "text": [
      "Model: \"sequential_1\"\n",
      "_________________________________________________________________\n",
      " Layer (type)                Output Shape              Param #   \n",
      "=================================================================\n",
      " flatten_1 (Flatten)         (None, 784)               0         \n",
      "                                                                 \n",
      " dense_3 (Dense)             (None, 300)               235500    \n",
      "                                                                 \n",
      " dense_4 (Dense)             (None, 100)               30100     \n",
      "                                                                 \n",
      " dense_5 (Dense)             (None, 10)                1010      \n",
      "                                                                 \n",
      "=================================================================\n",
      "Total params: 266,610\n",
      "Trainable params: 266,610\n",
      "Non-trainable params: 0\n",
      "_________________________________________________________________\n"
     ]
    }
   ],
   "source": [
    "model.summary()"
   ]
  },
  {
   "cell_type": "code",
   "execution_count": 22,
   "id": "ed0af93a",
   "metadata": {},
   "outputs": [
    {
     "data": {
      "text/plain": [
       "[<keras.layers.reshaping.flatten.Flatten at 0x17f7b511a90>,\n",
       " <keras.layers.core.dense.Dense at 0x17f7b511e50>,\n",
       " <keras.layers.core.dense.Dense at 0x17f7b3b4d30>,\n",
       " <keras.layers.core.dense.Dense at 0x17f7b3b4bb0>]"
      ]
     },
     "execution_count": 22,
     "metadata": {},
     "output_type": "execute_result"
    }
   ],
   "source": [
    "model.layers"
   ]
  },
  {
   "cell_type": "code",
   "execution_count": 23,
   "id": "01ca2470",
   "metadata": {},
   "outputs": [],
   "source": [
    "hidden1 = model.layers[1]\n",
    "weights, biases = hidden1.get_weights()"
   ]
  },
  {
   "cell_type": "code",
   "execution_count": 24,
   "id": "428f7534",
   "metadata": {},
   "outputs": [
    {
     "data": {
      "text/plain": [
       "array([[-0.07193068, -0.03452487, -0.03554902, ..., -0.05869543,\n",
       "        -0.00157856, -0.06158684],\n",
       "       [-0.00558643,  0.00731043,  0.0533174 , ..., -0.04923269,\n",
       "        -0.02374551, -0.03896361],\n",
       "       [ 0.00334392,  0.06510514,  0.03704458, ..., -0.05803072,\n",
       "         0.02604339,  0.06863159],\n",
       "       ...,\n",
       "       [ 0.04411788,  0.06185362, -0.02610948, ..., -0.02977774,\n",
       "        -0.00429859,  0.01178395],\n",
       "       [ 0.01328775, -0.00179318,  0.05697536, ...,  0.017756  ,\n",
       "         0.02283564,  0.04898652],\n",
       "       [-0.04988752,  0.0360634 , -0.06587318, ...,  0.00548263,\n",
       "        -0.04126882, -0.05599555]], dtype=float32)"
      ]
     },
     "execution_count": 24,
     "metadata": {},
     "output_type": "execute_result"
    }
   ],
   "source": [
    "weights"
   ]
  },
  {
   "cell_type": "code",
   "execution_count": 25,
   "id": "b65baa2a",
   "metadata": {},
   "outputs": [
    {
     "data": {
      "text/plain": [
       "array([0., 0., 0., 0., 0., 0., 0., 0., 0., 0., 0., 0., 0., 0., 0., 0., 0.,\n",
       "       0., 0., 0., 0., 0., 0., 0., 0., 0., 0., 0., 0., 0., 0., 0., 0., 0.,\n",
       "       0., 0., 0., 0., 0., 0., 0., 0., 0., 0., 0., 0., 0., 0., 0., 0., 0.,\n",
       "       0., 0., 0., 0., 0., 0., 0., 0., 0., 0., 0., 0., 0., 0., 0., 0., 0.,\n",
       "       0., 0., 0., 0., 0., 0., 0., 0., 0., 0., 0., 0., 0., 0., 0., 0., 0.,\n",
       "       0., 0., 0., 0., 0., 0., 0., 0., 0., 0., 0., 0., 0., 0., 0., 0., 0.,\n",
       "       0., 0., 0., 0., 0., 0., 0., 0., 0., 0., 0., 0., 0., 0., 0., 0., 0.,\n",
       "       0., 0., 0., 0., 0., 0., 0., 0., 0., 0., 0., 0., 0., 0., 0., 0., 0.,\n",
       "       0., 0., 0., 0., 0., 0., 0., 0., 0., 0., 0., 0., 0., 0., 0., 0., 0.,\n",
       "       0., 0., 0., 0., 0., 0., 0., 0., 0., 0., 0., 0., 0., 0., 0., 0., 0.,\n",
       "       0., 0., 0., 0., 0., 0., 0., 0., 0., 0., 0., 0., 0., 0., 0., 0., 0.,\n",
       "       0., 0., 0., 0., 0., 0., 0., 0., 0., 0., 0., 0., 0., 0., 0., 0., 0.,\n",
       "       0., 0., 0., 0., 0., 0., 0., 0., 0., 0., 0., 0., 0., 0., 0., 0., 0.,\n",
       "       0., 0., 0., 0., 0., 0., 0., 0., 0., 0., 0., 0., 0., 0., 0., 0., 0.,\n",
       "       0., 0., 0., 0., 0., 0., 0., 0., 0., 0., 0., 0., 0., 0., 0., 0., 0.,\n",
       "       0., 0., 0., 0., 0., 0., 0., 0., 0., 0., 0., 0., 0., 0., 0., 0., 0.,\n",
       "       0., 0., 0., 0., 0., 0., 0., 0., 0., 0., 0., 0., 0., 0., 0., 0., 0.,\n",
       "       0., 0., 0., 0., 0., 0., 0., 0., 0., 0., 0.], dtype=float32)"
      ]
     },
     "execution_count": 25,
     "metadata": {},
     "output_type": "execute_result"
    }
   ],
   "source": [
    "biases"
   ]
  },
  {
   "cell_type": "code",
   "execution_count": 26,
   "id": "6156f57e",
   "metadata": {},
   "outputs": [],
   "source": [
    "model.compile(loss=\"sparse_categorical_crossentropy\",\n",
    "              optimizer=\"sgd\",\n",
    "              metrics=[\"accuracy\"])"
   ]
  },
  {
   "cell_type": "code",
   "execution_count": 27,
   "id": "d3b26566",
   "metadata": {},
   "outputs": [
    {
     "name": "stdout",
     "output_type": "stream",
     "text": [
      "Epoch 1/30\n",
      "1719/1719 [==============================] - 4s 2ms/step - loss: 0.7296 - accuracy: 0.7621 - val_loss: 0.5439 - val_accuracy: 0.8146\n",
      "Epoch 2/30\n",
      "1719/1719 [==============================] - 3s 2ms/step - loss: 0.4895 - accuracy: 0.8291 - val_loss: 0.4812 - val_accuracy: 0.8282\n",
      "Epoch 3/30\n",
      "1719/1719 [==============================] - 3s 2ms/step - loss: 0.4438 - accuracy: 0.8453 - val_loss: 0.4254 - val_accuracy: 0.8540\n",
      "Epoch 4/30\n",
      "1719/1719 [==============================] - 3s 2ms/step - loss: 0.4153 - accuracy: 0.8553 - val_loss: 0.3984 - val_accuracy: 0.8630\n",
      "Epoch 5/30\n",
      "1719/1719 [==============================] - 3s 2ms/step - loss: 0.3963 - accuracy: 0.8614 - val_loss: 0.3882 - val_accuracy: 0.8674\n",
      "Epoch 6/30\n",
      "1719/1719 [==============================] - 3s 2ms/step - loss: 0.3799 - accuracy: 0.8667 - val_loss: 0.3727 - val_accuracy: 0.8702\n",
      "Epoch 7/30\n",
      "1719/1719 [==============================] - 3s 2ms/step - loss: 0.3666 - accuracy: 0.8711 - val_loss: 0.3666 - val_accuracy: 0.8734\n",
      "Epoch 8/30\n",
      "1719/1719 [==============================] - 3s 2ms/step - loss: 0.3551 - accuracy: 0.8736 - val_loss: 0.3585 - val_accuracy: 0.8700\n",
      "Epoch 9/30\n",
      "1719/1719 [==============================] - 3s 2ms/step - loss: 0.3450 - accuracy: 0.8778 - val_loss: 0.3645 - val_accuracy: 0.8690\n",
      "Epoch 10/30\n",
      "1719/1719 [==============================] - 3s 2ms/step - loss: 0.3359 - accuracy: 0.8805 - val_loss: 0.3521 - val_accuracy: 0.8764\n",
      "Epoch 11/30\n",
      "1719/1719 [==============================] - 3s 2ms/step - loss: 0.3269 - accuracy: 0.8844 - val_loss: 0.3402 - val_accuracy: 0.8814\n",
      "Epoch 12/30\n",
      "1719/1719 [==============================] - 3s 2ms/step - loss: 0.3187 - accuracy: 0.8864 - val_loss: 0.3428 - val_accuracy: 0.8776\n",
      "Epoch 13/30\n",
      "1719/1719 [==============================] - 3s 2ms/step - loss: 0.3112 - accuracy: 0.8894 - val_loss: 0.3285 - val_accuracy: 0.8818\n",
      "Epoch 14/30\n",
      "1719/1719 [==============================] - 3s 2ms/step - loss: 0.3052 - accuracy: 0.8908 - val_loss: 0.3225 - val_accuracy: 0.8822\n",
      "Epoch 15/30\n",
      "1719/1719 [==============================] - 3s 2ms/step - loss: 0.2983 - accuracy: 0.8934 - val_loss: 0.3172 - val_accuracy: 0.8896\n",
      "Epoch 16/30\n",
      "1719/1719 [==============================] - 3s 2ms/step - loss: 0.2919 - accuracy: 0.8957 - val_loss: 0.3155 - val_accuracy: 0.8882\n",
      "Epoch 17/30\n",
      "1719/1719 [==============================] - 4s 2ms/step - loss: 0.2865 - accuracy: 0.8978 - val_loss: 0.3124 - val_accuracy: 0.8848\n",
      "Epoch 18/30\n",
      "1719/1719 [==============================] - 4s 2ms/step - loss: 0.2806 - accuracy: 0.9001 - val_loss: 0.3181 - val_accuracy: 0.8882\n",
      "Epoch 19/30\n",
      "1719/1719 [==============================] - 4s 2ms/step - loss: 0.2752 - accuracy: 0.9019 - val_loss: 0.3145 - val_accuracy: 0.8856\n",
      "Epoch 20/30\n",
      "1719/1719 [==============================] - 4s 2ms/step - loss: 0.2704 - accuracy: 0.9035 - val_loss: 0.3008 - val_accuracy: 0.8912\n",
      "Epoch 21/30\n",
      "1719/1719 [==============================] - 4s 2ms/step - loss: 0.2655 - accuracy: 0.9050 - val_loss: 0.3175 - val_accuracy: 0.8854\n",
      "Epoch 22/30\n",
      "1719/1719 [==============================] - 4s 2ms/step - loss: 0.2602 - accuracy: 0.9073 - val_loss: 0.3077 - val_accuracy: 0.8860\n",
      "Epoch 23/30\n",
      "1719/1719 [==============================] - 3s 2ms/step - loss: 0.2558 - accuracy: 0.9077 - val_loss: 0.2990 - val_accuracy: 0.8942\n",
      "Epoch 24/30\n",
      "1719/1719 [==============================] - 4s 2ms/step - loss: 0.2525 - accuracy: 0.9092 - val_loss: 0.3074 - val_accuracy: 0.8868\n",
      "Epoch 25/30\n",
      "1719/1719 [==============================] - 4s 2ms/step - loss: 0.2468 - accuracy: 0.9115 - val_loss: 0.2974 - val_accuracy: 0.8910\n",
      "Epoch 26/30\n",
      "1719/1719 [==============================] - 3s 2ms/step - loss: 0.2433 - accuracy: 0.9128 - val_loss: 0.3150 - val_accuracy: 0.8872\n",
      "Epoch 27/30\n",
      "1719/1719 [==============================] - 4s 2ms/step - loss: 0.2386 - accuracy: 0.9149 - val_loss: 0.3198 - val_accuracy: 0.8846\n",
      "Epoch 28/30\n",
      "1719/1719 [==============================] - 4s 2ms/step - loss: 0.2350 - accuracy: 0.9154 - val_loss: 0.2979 - val_accuracy: 0.8948\n",
      "Epoch 29/30\n",
      "1719/1719 [==============================] - 4s 2ms/step - loss: 0.2314 - accuracy: 0.9164 - val_loss: 0.2996 - val_accuracy: 0.8858\n",
      "Epoch 30/30\n",
      "1719/1719 [==============================] - 4s 2ms/step - loss: 0.2267 - accuracy: 0.9181 - val_loss: 0.2964 - val_accuracy: 0.8930\n"
     ]
    }
   ],
   "source": [
    "history = model.fit(X_train, y_train, epochs=30, validation_data=(X_val, y_val))"
   ]
  },
  {
   "cell_type": "code",
   "execution_count": 28,
   "id": "fb9836dd",
   "metadata": {},
   "outputs": [
    {
     "data": {
      "text/plain": [
       "{'loss': [0.7296057343482971,\n",
       "  0.4895300567150116,\n",
       "  0.44379737973213196,\n",
       "  0.4153311848640442,\n",
       "  0.39626362919807434,\n",
       "  0.379859060049057,\n",
       "  0.36662301421165466,\n",
       "  0.35513949394226074,\n",
       "  0.34495681524276733,\n",
       "  0.33588868379592896,\n",
       "  0.3268558382987976,\n",
       "  0.3186994194984436,\n",
       "  0.3112463653087616,\n",
       "  0.3051908016204834,\n",
       "  0.2983368933200836,\n",
       "  0.2919381260871887,\n",
       "  0.28654617071151733,\n",
       "  0.28061604499816895,\n",
       "  0.2751781642436981,\n",
       "  0.2703739404678345,\n",
       "  0.2654741406440735,\n",
       "  0.2602427899837494,\n",
       "  0.2557665705680847,\n",
       "  0.2525247037410736,\n",
       "  0.24677975475788116,\n",
       "  0.24328334629535675,\n",
       "  0.23864968121051788,\n",
       "  0.2350102961063385,\n",
       "  0.23142047226428986,\n",
       "  0.22672145068645477],\n",
       " 'accuracy': [0.762145459651947,\n",
       "  0.8291272521018982,\n",
       "  0.8453090786933899,\n",
       "  0.8552908897399902,\n",
       "  0.8613818287849426,\n",
       "  0.8667272925376892,\n",
       "  0.8710727095603943,\n",
       "  0.8736181855201721,\n",
       "  0.8778363466262817,\n",
       "  0.880509078502655,\n",
       "  0.8844000101089478,\n",
       "  0.8864181637763977,\n",
       "  0.8894363641738892,\n",
       "  0.8907636404037476,\n",
       "  0.8934363722801208,\n",
       "  0.8957454562187195,\n",
       "  0.8978363871574402,\n",
       "  0.9000545740127563,\n",
       "  0.9018909335136414,\n",
       "  0.9034545421600342,\n",
       "  0.9049999713897705,\n",
       "  0.9073454737663269,\n",
       "  0.9076545238494873,\n",
       "  0.9091818332672119,\n",
       "  0.9114545583724976,\n",
       "  0.9127636551856995,\n",
       "  0.9148545265197754,\n",
       "  0.9154182076454163,\n",
       "  0.9163818359375,\n",
       "  0.9180908799171448],\n",
       " 'val_loss': [0.5438584685325623,\n",
       "  0.481181263923645,\n",
       "  0.4254399836063385,\n",
       "  0.3983597159385681,\n",
       "  0.38815173506736755,\n",
       "  0.3727186620235443,\n",
       "  0.3666459023952484,\n",
       "  0.35849228501319885,\n",
       "  0.3645404577255249,\n",
       "  0.3521212637424469,\n",
       "  0.3401683270931244,\n",
       "  0.3427755832672119,\n",
       "  0.32851463556289673,\n",
       "  0.3225485682487488,\n",
       "  0.31717467308044434,\n",
       "  0.3155231475830078,\n",
       "  0.3123569190502167,\n",
       "  0.3181443214416504,\n",
       "  0.3144587576389313,\n",
       "  0.3008374273777008,\n",
       "  0.31754356622695923,\n",
       "  0.3076940178871155,\n",
       "  0.29897961020469666,\n",
       "  0.3073914349079132,\n",
       "  0.29736486077308655,\n",
       "  0.31498920917510986,\n",
       "  0.31984496116638184,\n",
       "  0.297894686460495,\n",
       "  0.29959532618522644,\n",
       "  0.29641032218933105],\n",
       " 'val_accuracy': [0.8145999908447266,\n",
       "  0.8281999826431274,\n",
       "  0.8539999723434448,\n",
       "  0.8629999756813049,\n",
       "  0.8673999905586243,\n",
       "  0.870199978351593,\n",
       "  0.8733999729156494,\n",
       "  0.8700000047683716,\n",
       "  0.8690000176429749,\n",
       "  0.8763999938964844,\n",
       "  0.8813999891281128,\n",
       "  0.8776000142097473,\n",
       "  0.8817999958992004,\n",
       "  0.8822000026702881,\n",
       "  0.8895999789237976,\n",
       "  0.8881999850273132,\n",
       "  0.8848000168800354,\n",
       "  0.8881999850273132,\n",
       "  0.8855999708175659,\n",
       "  0.8912000060081482,\n",
       "  0.8853999972343445,\n",
       "  0.8859999775886536,\n",
       "  0.8942000269889832,\n",
       "  0.8867999911308289,\n",
       "  0.890999972820282,\n",
       "  0.8871999979019165,\n",
       "  0.8845999836921692,\n",
       "  0.8948000073432922,\n",
       "  0.8858000040054321,\n",
       "  0.8930000066757202]}"
      ]
     },
     "execution_count": 28,
     "metadata": {},
     "output_type": "execute_result"
    }
   ],
   "source": [
    "history.history"
   ]
  },
  {
   "cell_type": "code",
   "execution_count": 29,
   "id": "04c116f1",
   "metadata": {},
   "outputs": [
    {
     "data": {
      "text/plain": [
       "(0.0, 1.0)"
      ]
     },
     "execution_count": 29,
     "metadata": {},
     "output_type": "execute_result"
    },
    {
     "data": {
      "image/png": "[encoded data removed]",
      "text/plain": [
       "<Figure size 576x360 with 1 Axes>"
      ]
     },
     "metadata": {
      "needs_background": "light"
     },
     "output_type": "display_data"
    }
   ],
   "source": [
    "import pandas as pd\n",
    "import matplotlib.pyplot as plt\n",
    "\n",
    "pd.DataFrame(history.history).plot(figsize=(8, 5))\n",
    "plt.grid(True)\n",
    "plt.gca().set_ylim(0, 1)"
   ]
  },
  {
   "cell_type": "code",
   "execution_count": 30,
   "id": "5e0216e8",
   "metadata": {},
   "outputs": [
    {
     "data": {
      "text/plain": [
       "(10000, 28, 28)"
      ]
     },
     "execution_count": 30,
     "metadata": {},
     "output_type": "execute_result"
    }
   ],
   "source": [
    "X_test.shape"
   ]
  },
  {
   "cell_type": "code",
   "execution_count": 31,
   "id": "afab4782",
   "metadata": {},
   "outputs": [
    {
     "name": "stdout",
     "output_type": "stream",
     "text": [
      "313/313 [==============================] - 1s 1ms/step - loss: 62.8720 - accuracy: 0.8442\n"
     ]
    },
    {
     "data": {
      "text/plain": [
       "[62.87203598022461, 0.8442000150680542]"
      ]
     },
     "execution_count": 31,
     "metadata": {},
     "output_type": "execute_result"
    }
   ],
   "source": [
    "model.evaluate(X_test, y_test)"
   ]
  },
  {
   "cell_type": "code",
   "execution_count": 34,
   "id": "661cc924",
   "metadata": {},
   "outputs": [
    {
     "name": "stdout",
     "output_type": "stream",
     "text": [
      "1/1 [==============================] - 0s 14ms/step\n"
     ]
    },
    {
     "data": {
      "text/plain": [
       "array([[0., 0., 0., 0., 0., 0., 0., 0., 0., 1.],\n",
       "       [0., 0., 1., 0., 0., 0., 0., 0., 0., 0.],\n",
       "       [0., 1., 0., 0., 0., 0., 0., 0., 0., 0.]], dtype=float32)"
      ]
     },
     "execution_count": 34,
     "metadata": {},
     "output_type": "execute_result"
    }
   ],
   "source": [
    "X_new = X_test[:3]\n",
    "y_proba = model.predict(X_new)\n",
    "y_proba.round(2)"
   ]
  },
  {
   "cell_type": "markdown",
   "id": "fc87c2c6",
   "metadata": {},
   "source": [
    "# Using neural network for regression problem"
   ]
  },
  {
   "cell_type": "code",
   "execution_count": 37,
   "id": "32998865",
   "metadata": {},
   "outputs": [],
   "source": [
    "from sklearn.datasets import fetch_california_housing\n",
    "from sklearn.model_selection import train_test_split\n",
    "from sklearn.preprocessing import StandardScaler\n",
    "\n",
    "housing = fetch_california_housing()\n",
    "\n",
    "X_train_full, X_test, y_train_full, y_test = train_test_split(housing.data, housing.target)\n",
    "\n",
    "X_train, X_val, y_train, y_val = train_test_split(X_train_full, y_train_full)"
   ]
  },
  {
   "cell_type": "code",
   "execution_count": 38,
   "id": "32cc11f8",
   "metadata": {},
   "outputs": [],
   "source": [
    "scaler = StandardScaler()\n",
    "X_train = scaler.fit_transform(X_train)\n",
    "X_val = scaler.fit_transform(X_val)\n",
    "X_test = scaler.fit_transform(X_test)"
   ]
  },
  {
   "cell_type": "code",
   "execution_count": 44,
   "id": "87950ebf",
   "metadata": {},
   "outputs": [],
   "source": [
    "model = keras.models.Sequential([\n",
    "    keras.layers.Dense(30, activation='relu', input_shape = X_train.shape[1:]),\n",
    "    keras.layers.Dense(1)\n",
    "])\n",
    "\n",
    "model.compile(loss=\"mean_squared_error\", optimizer=\"sgd\")"
   ]
  },
  {
   "cell_type": "code",
   "execution_count": 45,
   "id": "a9c95826",
   "metadata": {},
   "outputs": [
    {
     "name": "stdout",
     "output_type": "stream",
     "text": [
      "Epoch 1/20\n",
      "363/363 [==============================] - 1s 1ms/step - loss: 0.7890 - val_loss: 0.7102\n",
      "Epoch 2/20\n",
      "363/363 [==============================] - 0s 956us/step - loss: 0.6533 - val_loss: 0.4930\n",
      "Epoch 3/20\n",
      "363/363 [==============================] - 0s 954us/step - loss: 0.4518 - val_loss: 0.4594\n",
      "Epoch 4/20\n",
      "363/363 [==============================] - 0s 1000us/step - loss: 0.4269 - val_loss: 0.4418\n",
      "Epoch 5/20\n",
      "363/363 [==============================] - 0s 943us/step - loss: 0.4140 - val_loss: 0.4307\n",
      "Epoch 6/20\n",
      "363/363 [==============================] - 0s 993us/step - loss: 0.4048 - val_loss: 0.4234\n",
      "Epoch 7/20\n",
      "363/363 [==============================] - 0s 1ms/step - loss: 0.4016 - val_loss: 0.4294\n",
      "Epoch 8/20\n",
      "363/363 [==============================] - 0s 973us/step - loss: 0.3948 - val_loss: 0.4173\n",
      "Epoch 9/20\n",
      "363/363 [==============================] - 0s 960us/step - loss: 0.3899 - val_loss: 0.4104\n",
      "Epoch 10/20\n",
      "363/363 [==============================] - 0s 1ms/step - loss: 0.3882 - val_loss: 0.4071\n",
      "Epoch 11/20\n",
      "363/363 [==============================] - 0s 1ms/step - loss: 0.3843 - val_loss: 0.4087\n",
      "Epoch 12/20\n",
      "363/363 [==============================] - 0s 1ms/step - loss: 0.3810 - val_loss: 0.4060\n",
      "Epoch 13/20\n",
      "363/363 [==============================] - 0s 1ms/step - loss: 0.3785 - val_loss: 0.4036\n",
      "Epoch 14/20\n",
      "363/363 [==============================] - 0s 1ms/step - loss: 0.3755 - val_loss: 0.3972\n",
      "Epoch 15/20\n",
      "363/363 [==============================] - 0s 1ms/step - loss: 0.3731 - val_loss: 0.3968\n",
      "Epoch 16/20\n",
      "363/363 [==============================] - 0s 1ms/step - loss: 0.3712 - val_loss: 0.3942\n",
      "Epoch 17/20\n",
      "363/363 [==============================] - 0s 1ms/step - loss: 0.3698 - val_loss: 0.3931\n",
      "Epoch 18/20\n",
      "363/363 [==============================] - 0s 1ms/step - loss: 0.3671 - val_loss: 0.3904\n",
      "Epoch 19/20\n",
      "363/363 [==============================] - 0s 1ms/step - loss: 0.3661 - val_loss: 0.3910\n",
      "Epoch 20/20\n",
      "363/363 [==============================] - 0s 1ms/step - loss: 0.3633 - val_loss: 0.3949\n"
     ]
    }
   ],
   "source": [
    "history = model.fit(X_train, y_train, epochs=20, validation_data=(X_val, y_val))"
   ]
  },
  {
   "cell_type": "code",
   "execution_count": 46,
   "id": "7b043ac6",
   "metadata": {},
   "outputs": [
    {
     "name": "stdout",
     "output_type": "stream",
     "text": [
      "162/162 [==============================] - 0s 690us/step - loss: 0.4101\n"
     ]
    }
   ],
   "source": [
    "mse_test = model.evaluate(X_test, y_test)"
   ]
  },
  {
   "cell_type": "code",
   "execution_count": 47,
   "id": "13610aa3",
   "metadata": {},
   "outputs": [
    {
     "name": "stdout",
     "output_type": "stream",
     "text": [
      "1/1 [==============================] - 0s 39ms/step\n"
     ]
    }
   ],
   "source": [
    "X_new = X_test[:3]\n",
    "y_hat = model.predict(X_new)"
   ]
  },
  {
   "cell_type": "code",
   "execution_count": 48,
   "id": "42db83aa",
   "metadata": {},
   "outputs": [
    {
     "name": "stdout",
     "output_type": "stream",
     "text": [
      "1.417 [1.6528783]\n",
      "2.64 [2.0725002]\n",
      "2.203 [2.767728]\n"
     ]
    }
   ],
   "source": [
    "for y1, y2 in zip (y_test[:3], y_hat):\n",
    "    print(y1, y2)"
   ]
  },
  {
   "cell_type": "markdown",
   "id": "7d824f12",
   "metadata": {},
   "source": [
    "# Building a wide and deep neural network"
   ]
  },
  {
   "cell_type": "code",
   "execution_count": 52,
   "id": "bd81e27e",
   "metadata": {},
   "outputs": [
    {
     "name": "stdout",
     "output_type": "stream",
     "text": [
      "(8,)\n"
     ]
    }
   ],
   "source": [
    "print(X_train.shape[1:])"
   ]
  },
  {
   "cell_type": "code",
   "execution_count": 53,
   "id": "b8424d83",
   "metadata": {},
   "outputs": [],
   "source": [
    "input_ = keras.layers.Input(shape=X_train.shape[1:])\n",
    "hidden1 = keras.layers.Dense(30, activation=\"relu\")(input_)\n",
    "hidden2 = keras.layers.Dense(30, activation=\"relu\")(hidden1)\n",
    "concat=keras.layers.Concatenate()([input_, hidden2])\n",
    "output = keras.layers.Dense(1)(concat)\n",
    "model = keras.Model(inputs=[input_], outputs=[output])"
   ]
  },
  {
   "cell_type": "code",
   "execution_count": 54,
   "id": "ea44605a",
   "metadata": {},
   "outputs": [
    {
     "name": "stdout",
     "output_type": "stream",
     "text": [
      "Epoch 1/20\n",
      "363/363 [==============================] - 1s 1ms/step - loss: 1.1207 - val_loss: 1.1347\n",
      "Epoch 2/20\n",
      "363/363 [==============================] - 0s 1ms/step - loss: 1.6147 - val_loss: 71.2687\n",
      "Epoch 3/20\n",
      "363/363 [==============================] - 0s 1ms/step - loss: 2.5439 - val_loss: 0.9823\n",
      "Epoch 4/20\n",
      "363/363 [==============================] - 0s 1ms/step - loss: 2.7797 - val_loss: 0.7787\n",
      "Epoch 5/20\n",
      "363/363 [==============================] - 0s 1ms/step - loss: 1.7714 - val_loss: 0.7645\n",
      "Epoch 6/20\n",
      "363/363 [==============================] - 0s 1ms/step - loss: 0.9112 - val_loss: 6.3580\n",
      "Epoch 7/20\n",
      "363/363 [==============================] - 0s 1ms/step - loss: 1.2942 - val_loss: 2.7935\n",
      "Epoch 8/20\n",
      "363/363 [==============================] - 0s 1ms/step - loss: 0.8427 - val_loss: 0.8714\n",
      "Epoch 9/20\n",
      "363/363 [==============================] - 0s 1ms/step - loss: 2.4843 - val_loss: 0.6579\n",
      "Epoch 10/20\n",
      "363/363 [==============================] - 0s 1ms/step - loss: 1.2343 - val_loss: 0.5007\n",
      "Epoch 11/20\n",
      "363/363 [==============================] - 0s 1ms/step - loss: 0.3940 - val_loss: 0.5530\n",
      "Epoch 12/20\n",
      "363/363 [==============================] - 0s 1ms/step - loss: 0.3858 - val_loss: 0.4328\n",
      "Epoch 13/20\n",
      "363/363 [==============================] - 0s 1ms/step - loss: 0.3689 - val_loss: 0.4317\n",
      "Epoch 14/20\n",
      "363/363 [==============================] - 0s 1ms/step - loss: 0.4843 - val_loss: 0.3859\n",
      "Epoch 15/20\n",
      "363/363 [==============================] - 0s 1ms/step - loss: 0.3476 - val_loss: 0.3987\n",
      "Epoch 16/20\n",
      "363/363 [==============================] - 0s 1ms/step - loss: 0.3500 - val_loss: 0.3892\n",
      "Epoch 17/20\n",
      "363/363 [==============================] - 0s 1ms/step - loss: 0.4213 - val_loss: 0.3649\n",
      "Epoch 18/20\n",
      "363/363 [==============================] - 0s 1ms/step - loss: 0.3592 - val_loss: 0.3649\n",
      "Epoch 19/20\n",
      "363/363 [==============================] - 0s 1ms/step - loss: 0.3366 - val_loss: 0.3528\n",
      "Epoch 20/20\n",
      "363/363 [==============================] - 0s 1ms/step - loss: 0.3303 - val_loss: 0.3960\n"
     ]
    }
   ],
   "source": [
    "model.compile(loss=\"mean_squared_error\", optimizer=\"sgd\")\n",
    "history = model.fit(X_train, y_train, epochs=20, validation_data=(X_val, y_val))"
   ]
  },
  {
   "cell_type": "code",
   "execution_count": 55,
   "id": "34dd72fe",
   "metadata": {},
   "outputs": [
    {
     "name": "stdout",
     "output_type": "stream",
     "text": [
      "Epoch 1/20\n",
      "363/363 [==============================] - 0s 1ms/step - loss: 0.3306 - val_loss: 0.3577\n",
      "Epoch 2/20\n",
      "363/363 [==============================] - 0s 1ms/step - loss: 0.3424 - val_loss: 0.3494\n",
      "Epoch 3/20\n",
      "363/363 [==============================] - 0s 1ms/step - loss: 0.3279 - val_loss: 0.3615\n",
      "Epoch 4/20\n",
      "363/363 [==============================] - 0s 1ms/step - loss: 0.3316 - val_loss: 0.4004\n",
      "Epoch 5/20\n",
      "363/363 [==============================] - 0s 1ms/step - loss: 0.3234 - val_loss: 0.3590\n",
      "Epoch 6/20\n",
      "363/363 [==============================] - 0s 1ms/step - loss: 0.3244 - val_loss: 0.3587\n",
      "Epoch 7/20\n",
      "363/363 [==============================] - 0s 1ms/step - loss: 0.3191 - val_loss: 0.3455\n",
      "Epoch 8/20\n",
      "363/363 [==============================] - 0s 1ms/step - loss: 0.3194 - val_loss: 0.3498\n",
      "Epoch 9/20\n",
      "363/363 [==============================] - 0s 1ms/step - loss: 0.3173 - val_loss: 0.3649\n",
      "Epoch 10/20\n",
      "363/363 [==============================] - 0s 1ms/step - loss: 0.3162 - val_loss: 0.3511\n",
      "Epoch 11/20\n",
      "363/363 [==============================] - 0s 1ms/step - loss: 0.3139 - val_loss: 0.3647\n",
      "Epoch 12/20\n",
      "363/363 [==============================] - 0s 1ms/step - loss: 0.3180 - val_loss: 0.3736\n",
      "Epoch 13/20\n",
      "363/363 [==============================] - 0s 1ms/step - loss: 0.3931 - val_loss: 0.3739\n",
      "Epoch 14/20\n",
      "363/363 [==============================] - 0s 1ms/step - loss: 0.4194 - val_loss: 0.3622\n",
      "Epoch 15/20\n",
      "363/363 [==============================] - 1s 1ms/step - loss: 0.3184 - val_loss: 0.3927\n",
      "Epoch 16/20\n",
      "363/363 [==============================] - 0s 1ms/step - loss: 0.4134 - val_loss: 0.3667\n",
      "Epoch 17/20\n",
      "363/363 [==============================] - 0s 1ms/step - loss: 0.3178 - val_loss: 0.3631\n",
      "Epoch 18/20\n",
      "363/363 [==============================] - 0s 1ms/step - loss: 0.3173 - val_loss: 0.3849\n",
      "Epoch 19/20\n",
      "363/363 [==============================] - 1s 2ms/step - loss: 0.3245 - val_loss: 0.3976\n",
      "Epoch 20/20\n",
      "363/363 [==============================] - 0s 1ms/step - loss: 0.3221 - val_loss: 0.3915\n"
     ]
    }
   ],
   "source": [
    "history = model.fit(X_train, y_train, epochs=20, validation_data=(X_val, y_val))"
   ]
  },
  {
   "cell_type": "code",
   "execution_count": 56,
   "id": "ed3f49b9",
   "metadata": {
    "scrolled": true
   },
   "outputs": [
    {
     "data": {
      "text/plain": [
       "(0.0, 1.0)"
      ]
     },
     "execution_count": 56,
     "metadata": {},
     "output_type": "execute_result"
    },
    {
     "data": {
      "image/png": "[encoded data removed]",
      "text/plain": [
       "<Figure size 576x360 with 1 Axes>"
      ]
     },
     "metadata": {
      "needs_background": "light"
     },
     "output_type": "display_data"
    }
   ],
   "source": [
    "pd.DataFrame(history.history).plot(figsize=(8, 5))\n",
    "plt.grid(True)\n",
    "plt.gca().set_ylim(0, 1)"
   ]
  },
  {
   "cell_type": "code",
   "execution_count": 58,
   "id": "78e4c902",
   "metadata": {},
   "outputs": [
    {
     "name": "stdout",
     "output_type": "stream",
     "text": [
      "Collecting pydot\n",
      "  Downloading pydot-1.4.2-py2.py3-none-any.whl (21 kB)\n",
      "Requirement already satisfied: pyparsing>=2.1.4 in c:\\python\\lib\\site-packages (from pydot) (3.0.7)\n",
      "Installing collected packages: pydot\n",
      "Successfully installed pydot-1.4.2\n"
     ]
    }
   ],
   "source": [
    "! pip install pydot"
   ]
  },
  {
   "cell_type": "code",
   "execution_count": 60,
   "id": "aaeaf0d2",
   "metadata": {},
   "outputs": [
    {
     "name": "stdout",
     "output_type": "stream",
     "text": [
      "Collecting graphviz\n",
      "  Downloading graphviz-0.20-py3-none-any.whl (46 kB)\n",
      "     -------------------------------------- 47.0/47.0 kB 782.1 kB/s eta 0:00:00\n",
      "Installing collected packages: graphviz\n",
      "Successfully installed graphviz-0.20\n"
     ]
    }
   ],
   "source": [
    "! pip install graphviz"
   ]
  },
  {
   "cell_type": "code",
   "execution_count": 62,
   "id": "d2f6827e",
   "metadata": {},
   "outputs": [
    {
     "name": "stdout",
     "output_type": "stream",
     "text": [
      "You must install pydot (`pip install pydot`) and install graphviz (see instructions at https://graphviz.gitlab.io/download/) for plot_model/model_to_dot to work.\n"
     ]
    }
   ],
   "source": [
    "from keras.utils.vis_utils import plot_model\n",
    "\n",
    "plot_model(model, to_file='model_plot.png', show_shapes=True, show_layer_names=True)"
   ]
  },
  {
   "cell_type": "markdown",
   "id": "423a257d",
   "metadata": {},
   "source": [
    "# Model with multiple inputs"
   ]
  },
  {
   "cell_type": "code",
   "execution_count": 63,
   "id": "5cc967e1",
   "metadata": {},
   "outputs": [],
   "source": [
    "input_A = keras.layers.Input(shape=[5], name=\"wide_input\")\n",
    "input_B = keras.layers.Input(shape=[6], name=\"deep_input\")\n",
    "hidden1 = keras.layers.Dense(30, activation=\"relu\")(input_B)\n",
    "hidden2 = keras.layers.Dense(30, activation=\"relu\")(hidden1)\n",
    "concat = keras.layers.concatenate([input_A, hidden2])\n",
    "output = keras.layers.Dense(1, name=\"output\")(concat)\n",
    "model = keras.Model(inputs=[input_A, input_B], outputs=[output])"
   ]
  },
  {
   "cell_type": "code",
   "execution_count": 65,
   "id": "8879e1a9",
   "metadata": {},
   "outputs": [
    {
     "name": "stdout",
     "output_type": "stream",
     "text": [
      "Epoch 1/20\n"
     ]
    },
    {
     "name": "stderr",
     "output_type": "stream",
     "text": [
      "C:\\python\\lib\\site-packages\\keras\\optimizers\\optimizer_v2\\gradient_descent.py:108: UserWarning: The `lr` argument is deprecated, use `learning_rate` instead.\n",
      "  super(SGD, self).__init__(name, **kwargs)\n"
     ]
    },
    {
     "name": "stdout",
     "output_type": "stream",
     "text": [
      "363/363 [==============================] - 1s 1ms/step - loss: 1.9448 - val_loss: 1.0202\n",
      "Epoch 2/20\n",
      "363/363 [==============================] - 0s 1ms/step - loss: 0.8658 - val_loss: 0.8053\n",
      "Epoch 3/20\n",
      "363/363 [==============================] - 0s 1ms/step - loss: 0.7463 - val_loss: 0.7281\n",
      "Epoch 4/20\n",
      "363/363 [==============================] - 0s 1ms/step - loss: 0.6857 - val_loss: 0.6775\n",
      "Epoch 5/20\n",
      "363/363 [==============================] - 0s 1ms/step - loss: 0.6431 - val_loss: 0.6419\n",
      "Epoch 6/20\n",
      "363/363 [==============================] - 0s 1ms/step - loss: 0.6119 - val_loss: 0.6137\n",
      "Epoch 7/20\n",
      "363/363 [==============================] - 0s 1ms/step - loss: 0.5872 - val_loss: 0.5909\n",
      "Epoch 8/20\n",
      "363/363 [==============================] - 0s 1ms/step - loss: 0.5666 - val_loss: 0.5741\n",
      "Epoch 9/20\n",
      "363/363 [==============================] - 0s 1ms/step - loss: 0.5502 - val_loss: 0.5592\n",
      "Epoch 10/20\n",
      "363/363 [==============================] - 0s 1ms/step - loss: 0.5365 - val_loss: 0.5471\n",
      "Epoch 11/20\n",
      "363/363 [==============================] - 0s 1ms/step - loss: 0.5252 - val_loss: 0.5371\n",
      "Epoch 12/20\n",
      "363/363 [==============================] - 0s 1ms/step - loss: 0.5149 - val_loss: 0.5294\n",
      "Epoch 13/20\n",
      "363/363 [==============================] - 0s 1ms/step - loss: 0.5064 - val_loss: 0.5215\n",
      "Epoch 14/20\n",
      "363/363 [==============================] - 0s 1ms/step - loss: 0.4987 - val_loss: 0.5155\n",
      "Epoch 15/20\n",
      "363/363 [==============================] - 0s 1ms/step - loss: 0.4920 - val_loss: 0.5098\n",
      "Epoch 16/20\n",
      "363/363 [==============================] - 0s 1ms/step - loss: 0.4857 - val_loss: 0.5050\n",
      "Epoch 17/20\n",
      "363/363 [==============================] - 0s 1ms/step - loss: 0.4803 - val_loss: 0.5008\n",
      "Epoch 18/20\n",
      "363/363 [==============================] - 0s 1ms/step - loss: 0.4749 - val_loss: 0.4967\n",
      "Epoch 19/20\n",
      "363/363 [==============================] - 0s 1ms/step - loss: 0.4704 - val_loss: 0.4921\n",
      "Epoch 20/20\n",
      "363/363 [==============================] - 0s 1ms/step - loss: 0.4658 - val_loss: 0.4889\n",
      "162/162 [==============================] - 0s 799us/step - loss: 0.4806\n",
      "1/1 [==============================] - 0s 39ms/step\n"
     ]
    }
   ],
   "source": [
    "model.compile(loss=\"mse\", optimizer=keras.optimizers.SGD(lr=1e-3))\n",
    "\n",
    "X_train_A, X_train_B = X_train[:, :5], X_train[:, 2:]\n",
    "X_val_A, X_val_B = X_val[:, :5], X_val[:, 2:]\n",
    "X_test_A, X_test_B = X_test[:, :5], X_test[:, 2:]\n",
    "\n",
    "X_new_A, X_new_B = X_test_A[:3], X_test_B[:3]\n",
    "\n",
    "history = model.fit((X_train_A, X_train_B), y_train, epochs=20,\n",
    "                     validation_data=((X_val_A, X_val_B), y_val))\n",
    "\n",
    "mse_test = model.evaluate((X_test_A, X_test_B), y_test)\n",
    "y_hat = model.predict((X_new_A, X_new_B))"
   ]
  },
  {
   "cell_type": "code",
   "execution_count": 69,
   "id": "16699b8a",
   "metadata": {},
   "outputs": [],
   "source": [
    "# Example of multiple outputs model structure\n",
    "\n",
    "# Some code\n",
    "input_A = keras.layers.Input(shape=[5], name=\"wide_input\")\n",
    "input_B = keras.layers.Input(shape=[6], name=\"deep_input\")\n",
    "hidden1 = keras.layers.Dense(30, activation=\"relu\")(input_B)\n",
    "hidden2 = keras.layers.Dense(30, activation=\"relu\")(hidden1)\n",
    "concat = keras.layers.concatenate([input_A, hidden2])\n",
    "output = keras.layers.Dense(1, name=\"main_output\")(concat)\n",
    "aux_output = keras.layers.Dense(1, name=\"aux_output\")(hidden2)\n",
    "model = keras.Model(inputs=[input_A, input_B], outputs=[output, aux_output])\n",
    "\n",
    "model.compile(loss=[\"mse\", \"mse\"], loss_weights=[0.9, 0.1], optimizer=\"sgd\")"
   ]
  },
  {
   "cell_type": "code",
   "execution_count": 71,
   "id": "1f42ec95",
   "metadata": {},
   "outputs": [
    {
     "name": "stdout",
     "output_type": "stream",
     "text": [
      "Epoch 1/100\n",
      "363/363 [==============================] - 1s 1ms/step - loss: 0.3604 - main_output_loss: 0.3458 - aux_output_loss: 0.4912 - val_loss: 0.3882 - val_main_output_loss: 0.3721 - val_aux_output_loss: 0.5327\n",
      "Epoch 2/100\n",
      "363/363 [==============================] - 0s 1ms/step - loss: 0.3609 - main_output_loss: 0.3469 - aux_output_loss: 0.4873 - val_loss: 0.4102 - val_main_output_loss: 0.3952 - val_aux_output_loss: 0.5452\n",
      "Epoch 3/100\n",
      "363/363 [==============================] - 0s 1ms/step - loss: 0.3600 - main_output_loss: 0.3462 - aux_output_loss: 0.4840 - val_loss: 0.3915 - val_main_output_loss: 0.3756 - val_aux_output_loss: 0.5341\n",
      "Epoch 4/100\n",
      "363/363 [==============================] - 0s 1ms/step - loss: 0.3553 - main_output_loss: 0.3416 - aux_output_loss: 0.4786 - val_loss: 0.3977 - val_main_output_loss: 0.3820 - val_aux_output_loss: 0.5390\n",
      "Epoch 5/100\n",
      "363/363 [==============================] - 0s 1ms/step - loss: 0.3529 - main_output_loss: 0.3394 - aux_output_loss: 0.4744 - val_loss: 0.3945 - val_main_output_loss: 0.3795 - val_aux_output_loss: 0.5292\n",
      "Epoch 6/100\n",
      "363/363 [==============================] - 1s 1ms/step - loss: 0.3525 - main_output_loss: 0.3393 - aux_output_loss: 0.4715 - val_loss: 0.3824 - val_main_output_loss: 0.3674 - val_aux_output_loss: 0.5178\n",
      "Epoch 7/100\n",
      "363/363 [==============================] - 1s 1ms/step - loss: 0.3497 - main_output_loss: 0.3366 - aux_output_loss: 0.4671 - val_loss: 0.4035 - val_main_output_loss: 0.3896 - val_aux_output_loss: 0.5286\n",
      "Epoch 8/100\n",
      "363/363 [==============================] - 1s 1ms/step - loss: 0.3477 - main_output_loss: 0.3348 - aux_output_loss: 0.4634 - val_loss: 0.3833 - val_main_output_loss: 0.3691 - val_aux_output_loss: 0.5110\n",
      "Epoch 9/100\n",
      "363/363 [==============================] - 1s 2ms/step - loss: 0.3489 - main_output_loss: 0.3363 - aux_output_loss: 0.4621 - val_loss: 0.3856 - val_main_output_loss: 0.3712 - val_aux_output_loss: 0.5154\n",
      "Epoch 10/100\n",
      "363/363 [==============================] - 1s 2ms/step - loss: 0.3460 - main_output_loss: 0.3337 - aux_output_loss: 0.4563 - val_loss: 0.3780 - val_main_output_loss: 0.3641 - val_aux_output_loss: 0.5033\n",
      "Epoch 11/100\n",
      "363/363 [==============================] - 0s 1ms/step - loss: 0.3425 - main_output_loss: 0.3301 - aux_output_loss: 0.4541 - val_loss: 0.3856 - val_main_output_loss: 0.3716 - val_aux_output_loss: 0.5110\n",
      "Epoch 12/100\n",
      "363/363 [==============================] - 0s 1ms/step - loss: 0.3448 - main_output_loss: 0.3326 - aux_output_loss: 0.4549 - val_loss: 0.3702 - val_main_output_loss: 0.3564 - val_aux_output_loss: 0.4941\n",
      "Epoch 13/100\n",
      "363/363 [==============================] - 0s 1ms/step - loss: 0.3413 - main_output_loss: 0.3295 - aux_output_loss: 0.4481 - val_loss: 0.3919 - val_main_output_loss: 0.3784 - val_aux_output_loss: 0.5136\n",
      "Epoch 14/100\n",
      "363/363 [==============================] - 0s 1ms/step - loss: 0.3432 - main_output_loss: 0.3316 - aux_output_loss: 0.4475 - val_loss: 0.3825 - val_main_output_loss: 0.3692 - val_aux_output_loss: 0.5020\n",
      "Epoch 15/100\n",
      "363/363 [==============================] - 0s 1ms/step - loss: 0.3433 - main_output_loss: 0.3318 - aux_output_loss: 0.4471 - val_loss: 0.3720 - val_main_output_loss: 0.3587 - val_aux_output_loss: 0.4913\n",
      "Epoch 16/100\n",
      "363/363 [==============================] - 0s 1ms/step - loss: 0.3410 - main_output_loss: 0.3297 - aux_output_loss: 0.4431 - val_loss: 0.3831 - val_main_output_loss: 0.3701 - val_aux_output_loss: 0.5004\n",
      "Epoch 17/100\n",
      "363/363 [==============================] - 0s 1ms/step - loss: 0.3402 - main_output_loss: 0.3288 - aux_output_loss: 0.4431 - val_loss: 0.3798 - val_main_output_loss: 0.3671 - val_aux_output_loss: 0.4947\n",
      "Epoch 18/100\n",
      "363/363 [==============================] - 0s 1ms/step - loss: 0.3385 - main_output_loss: 0.3273 - aux_output_loss: 0.4387 - val_loss: 0.3697 - val_main_output_loss: 0.3570 - val_aux_output_loss: 0.4838\n",
      "Epoch 19/100\n",
      "363/363 [==============================] - 0s 1ms/step - loss: 0.3371 - main_output_loss: 0.3258 - aux_output_loss: 0.4386 - val_loss: 0.3762 - val_main_output_loss: 0.3635 - val_aux_output_loss: 0.4913\n",
      "Epoch 20/100\n",
      "363/363 [==============================] - 1s 1ms/step - loss: 0.3355 - main_output_loss: 0.3245 - aux_output_loss: 0.4346 - val_loss: 0.3858 - val_main_output_loss: 0.3734 - val_aux_output_loss: 0.4973\n",
      "Epoch 21/100\n",
      "363/363 [==============================] - 0s 1ms/step - loss: 0.3356 - main_output_loss: 0.3247 - aux_output_loss: 0.4345 - val_loss: 0.3742 - val_main_output_loss: 0.3617 - val_aux_output_loss: 0.4860\n",
      "Epoch 22/100\n",
      "363/363 [==============================] - 0s 1ms/step - loss: 0.3355 - main_output_loss: 0.3249 - aux_output_loss: 0.4311 - val_loss: 0.3664 - val_main_output_loss: 0.3542 - val_aux_output_loss: 0.4757\n",
      "Epoch 23/100\n",
      "363/363 [==============================] - 1s 2ms/step - loss: 0.3349 - main_output_loss: 0.3245 - aux_output_loss: 0.4291 - val_loss: 0.3935 - val_main_output_loss: 0.3812 - val_aux_output_loss: 0.5042\n",
      "Epoch 24/100\n",
      "363/363 [==============================] - 0s 1ms/step - loss: 0.3339 - main_output_loss: 0.3237 - aux_output_loss: 0.4261 - val_loss: 0.3829 - val_main_output_loss: 0.3714 - val_aux_output_loss: 0.4868\n",
      "Epoch 25/100\n",
      "363/363 [==============================] - 0s 1ms/step - loss: 0.3329 - main_output_loss: 0.3226 - aux_output_loss: 0.4264 - val_loss: 0.3631 - val_main_output_loss: 0.3513 - val_aux_output_loss: 0.4691\n",
      "Epoch 26/100\n",
      "363/363 [==============================] - 1s 2ms/step - loss: 0.3337 - main_output_loss: 0.3236 - aux_output_loss: 0.4247 - val_loss: 0.3857 - val_main_output_loss: 0.3742 - val_aux_output_loss: 0.4894\n",
      "Epoch 27/100\n",
      "363/363 [==============================] - 1s 2ms/step - loss: 0.3317 - main_output_loss: 0.3215 - aux_output_loss: 0.4236 - val_loss: 0.3728 - val_main_output_loss: 0.3611 - val_aux_output_loss: 0.4788\n",
      "Epoch 28/100\n",
      "363/363 [==============================] - 1s 2ms/step - loss: 0.3302 - main_output_loss: 0.3202 - aux_output_loss: 0.4202 - val_loss: 0.3889 - val_main_output_loss: 0.3779 - val_aux_output_loss: 0.4883\n",
      "Epoch 29/100\n",
      "363/363 [==============================] - 1s 2ms/step - loss: 0.3306 - main_output_loss: 0.3206 - aux_output_loss: 0.4204 - val_loss: 0.3781 - val_main_output_loss: 0.3664 - val_aux_output_loss: 0.4831\n",
      "Epoch 30/100\n",
      "363/363 [==============================] - 1s 2ms/step - loss: 0.3284 - main_output_loss: 0.3186 - aux_output_loss: 0.4167 - val_loss: 0.3682 - val_main_output_loss: 0.3568 - val_aux_output_loss: 0.4702\n",
      "Epoch 31/100\n",
      "363/363 [==============================] - 1s 2ms/step - loss: 0.3294 - main_output_loss: 0.3198 - aux_output_loss: 0.4163 - val_loss: 0.3755 - val_main_output_loss: 0.3647 - val_aux_output_loss: 0.4729\n",
      "Epoch 32/100\n",
      "363/363 [==============================] - 1s 2ms/step - loss: 0.3295 - main_output_loss: 0.3198 - aux_output_loss: 0.4164 - val_loss: 0.3679 - val_main_output_loss: 0.3571 - val_aux_output_loss: 0.4657\n",
      "Epoch 33/100\n",
      "363/363 [==============================] - 1s 2ms/step - loss: 0.3270 - main_output_loss: 0.3174 - aux_output_loss: 0.4133 - val_loss: 0.3724 - val_main_output_loss: 0.3615 - val_aux_output_loss: 0.4699\n",
      "Epoch 34/100\n",
      "363/363 [==============================] - 1s 2ms/step - loss: 0.3280 - main_output_loss: 0.3185 - aux_output_loss: 0.4132 - val_loss: 0.3728 - val_main_output_loss: 0.3616 - val_aux_output_loss: 0.4736\n",
      "Epoch 35/100\n",
      "363/363 [==============================] - 1s 2ms/step - loss: 0.3257 - main_output_loss: 0.3162 - aux_output_loss: 0.4111 - val_loss: 0.3779 - val_main_output_loss: 0.3670 - val_aux_output_loss: 0.4754\n",
      "Epoch 36/100\n",
      "363/363 [==============================] - 1s 2ms/step - loss: 0.3299 - main_output_loss: 0.3208 - aux_output_loss: 0.4117 - val_loss: 0.3698 - val_main_output_loss: 0.3589 - val_aux_output_loss: 0.4682\n",
      "Epoch 37/100\n",
      "363/363 [==============================] - 1s 2ms/step - loss: 0.3262 - main_output_loss: 0.3169 - aux_output_loss: 0.4099 - val_loss: 0.3647 - val_main_output_loss: 0.3544 - val_aux_output_loss: 0.4575\n",
      "Epoch 38/100\n",
      "363/363 [==============================] - 1s 2ms/step - loss: 0.3245 - main_output_loss: 0.3153 - aux_output_loss: 0.4075 - val_loss: 0.3611 - val_main_output_loss: 0.3506 - val_aux_output_loss: 0.4558\n"
     ]
    },
    {
     "name": "stdout",
     "output_type": "stream",
     "text": [
      "Epoch 39/100\n",
      "363/363 [==============================] - 1s 1ms/step - loss: 0.3258 - main_output_loss: 0.3165 - aux_output_loss: 0.4092 - val_loss: 0.3677 - val_main_output_loss: 0.3571 - val_aux_output_loss: 0.4623\n",
      "Epoch 40/100\n",
      "363/363 [==============================] - 1s 2ms/step - loss: 0.3229 - main_output_loss: 0.3138 - aux_output_loss: 0.4049 - val_loss: 0.3637 - val_main_output_loss: 0.3532 - val_aux_output_loss: 0.4582\n",
      "Epoch 41/100\n",
      "363/363 [==============================] - 1s 2ms/step - loss: 0.3251 - main_output_loss: 0.3162 - aux_output_loss: 0.4056 - val_loss: 0.3648 - val_main_output_loss: 0.3543 - val_aux_output_loss: 0.4590\n",
      "Epoch 42/100\n",
      "363/363 [==============================] - 1s 2ms/step - loss: 0.3242 - main_output_loss: 0.3153 - aux_output_loss: 0.4045 - val_loss: 0.3712 - val_main_output_loss: 0.3608 - val_aux_output_loss: 0.4648\n",
      "Epoch 43/100\n",
      "363/363 [==============================] - 1s 2ms/step - loss: 0.3231 - main_output_loss: 0.3141 - aux_output_loss: 0.4034 - val_loss: 0.3750 - val_main_output_loss: 0.3649 - val_aux_output_loss: 0.4660\n",
      "Epoch 44/100\n",
      "363/363 [==============================] - 1s 2ms/step - loss: 0.3211 - main_output_loss: 0.3121 - aux_output_loss: 0.4018 - val_loss: 0.3598 - val_main_output_loss: 0.3494 - val_aux_output_loss: 0.4533\n",
      "Epoch 45/100\n",
      "363/363 [==============================] - 1s 2ms/step - loss: 0.3222 - main_output_loss: 0.3133 - aux_output_loss: 0.4022 - val_loss: 0.4150 - val_main_output_loss: 0.4055 - val_aux_output_loss: 0.5000\n",
      "Epoch 46/100\n",
      "363/363 [==============================] - 1s 2ms/step - loss: 0.3217 - main_output_loss: 0.3129 - aux_output_loss: 0.4005 - val_loss: 0.3839 - val_main_output_loss: 0.3735 - val_aux_output_loss: 0.4775\n",
      "Epoch 47/100\n",
      "363/363 [==============================] - 1s 2ms/step - loss: 0.3211 - main_output_loss: 0.3123 - aux_output_loss: 0.4003 - val_loss: 0.3713 - val_main_output_loss: 0.3613 - val_aux_output_loss: 0.4622\n",
      "Epoch 48/100\n",
      "363/363 [==============================] - 0s 1ms/step - loss: 0.3216 - main_output_loss: 0.3129 - aux_output_loss: 0.3996 - val_loss: 0.4082 - val_main_output_loss: 0.3989 - val_aux_output_loss: 0.4916\n",
      "Epoch 49/100\n",
      "363/363 [==============================] - 0s 1ms/step - loss: 0.3195 - main_output_loss: 0.3109 - aux_output_loss: 0.3967 - val_loss: 0.3571 - val_main_output_loss: 0.3472 - val_aux_output_loss: 0.4456\n",
      "Epoch 50/100\n",
      "363/363 [==============================] - 1s 1ms/step - loss: 0.3201 - main_output_loss: 0.3116 - aux_output_loss: 0.3970 - val_loss: 0.3787 - val_main_output_loss: 0.3688 - val_aux_output_loss: 0.4683\n",
      "Epoch 51/100\n",
      "363/363 [==============================] - 1s 1ms/step - loss: 0.3190 - main_output_loss: 0.3105 - aux_output_loss: 0.3953 - val_loss: 0.4101 - val_main_output_loss: 0.4008 - val_aux_output_loss: 0.4940\n",
      "Epoch 52/100\n",
      "363/363 [==============================] - 1s 1ms/step - loss: 0.3186 - main_output_loss: 0.3102 - aux_output_loss: 0.3945 - val_loss: 0.3590 - val_main_output_loss: 0.3497 - val_aux_output_loss: 0.4430\n",
      "Epoch 53/100\n",
      "363/363 [==============================] - 1s 1ms/step - loss: 0.3184 - main_output_loss: 0.3100 - aux_output_loss: 0.3941 - val_loss: 0.3672 - val_main_output_loss: 0.3582 - val_aux_output_loss: 0.4476\n",
      "Epoch 54/100\n",
      "363/363 [==============================] - 1s 2ms/step - loss: 0.3186 - main_output_loss: 0.3101 - aux_output_loss: 0.3953 - val_loss: 0.3732 - val_main_output_loss: 0.3638 - val_aux_output_loss: 0.4584\n",
      "Epoch 55/100\n",
      "363/363 [==============================] - 1s 2ms/step - loss: 0.3186 - main_output_loss: 0.3101 - aux_output_loss: 0.3947 - val_loss: 0.3503 - val_main_output_loss: 0.3410 - val_aux_output_loss: 0.4341\n",
      "Epoch 56/100\n",
      "363/363 [==============================] - 1s 2ms/step - loss: 0.3196 - main_output_loss: 0.3114 - aux_output_loss: 0.3934 - val_loss: 0.3756 - val_main_output_loss: 0.3663 - val_aux_output_loss: 0.4597\n",
      "Epoch 57/100\n",
      "363/363 [==============================] - 1s 2ms/step - loss: 0.3188 - main_output_loss: 0.3104 - aux_output_loss: 0.3944 - val_loss: 0.3842 - val_main_output_loss: 0.3751 - val_aux_output_loss: 0.4661\n",
      "Epoch 58/100\n",
      "363/363 [==============================] - 1s 1ms/step - loss: 0.3175 - main_output_loss: 0.3093 - aux_output_loss: 0.3912 - val_loss: 0.3656 - val_main_output_loss: 0.3563 - val_aux_output_loss: 0.4491\n",
      "Epoch 59/100\n",
      "363/363 [==============================] - 1s 1ms/step - loss: 0.3169 - main_output_loss: 0.3086 - aux_output_loss: 0.3915 - val_loss: 0.3755 - val_main_output_loss: 0.3670 - val_aux_output_loss: 0.4518\n",
      "Epoch 60/100\n",
      "363/363 [==============================] - 0s 1ms/step - loss: 0.3186 - main_output_loss: 0.3106 - aux_output_loss: 0.3906 - val_loss: 0.3668 - val_main_output_loss: 0.3575 - val_aux_output_loss: 0.4514\n",
      "Epoch 61/100\n",
      "363/363 [==============================] - 0s 1ms/step - loss: 0.3172 - main_output_loss: 0.3092 - aux_output_loss: 0.3892 - val_loss: 0.3589 - val_main_output_loss: 0.3495 - val_aux_output_loss: 0.4434\n",
      "Epoch 62/100\n",
      "363/363 [==============================] - 0s 1ms/step - loss: 0.3163 - main_output_loss: 0.3081 - aux_output_loss: 0.3896 - val_loss: 0.3610 - val_main_output_loss: 0.3523 - val_aux_output_loss: 0.4384\n",
      "Epoch 63/100\n",
      "363/363 [==============================] - 0s 1ms/step - loss: 0.3165 - main_output_loss: 0.3085 - aux_output_loss: 0.3889 - val_loss: 0.3754 - val_main_output_loss: 0.3665 - val_aux_output_loss: 0.4555\n",
      "Epoch 64/100\n",
      "363/363 [==============================] - 0s 1ms/step - loss: 0.3168 - main_output_loss: 0.3087 - aux_output_loss: 0.3894 - val_loss: 0.3526 - val_main_output_loss: 0.3435 - val_aux_output_loss: 0.4347\n",
      "Epoch 65/100\n",
      "363/363 [==============================] - 1s 2ms/step - loss: 0.3156 - main_output_loss: 0.3075 - aux_output_loss: 0.3881 - val_loss: 0.3529 - val_main_output_loss: 0.3440 - val_aux_output_loss: 0.4333\n",
      "Epoch 66/100\n",
      "363/363 [==============================] - 1s 1ms/step - loss: 0.3150 - main_output_loss: 0.3070 - aux_output_loss: 0.3872 - val_loss: 0.3629 - val_main_output_loss: 0.3542 - val_aux_output_loss: 0.4411\n",
      "Epoch 67/100\n",
      "363/363 [==============================] - 0s 1ms/step - loss: 0.3146 - main_output_loss: 0.3065 - aux_output_loss: 0.3874 - val_loss: 0.3671 - val_main_output_loss: 0.3582 - val_aux_output_loss: 0.4476\n",
      "Epoch 68/100\n",
      "363/363 [==============================] - 1s 2ms/step - loss: 0.3137 - main_output_loss: 0.3057 - aux_output_loss: 0.3856 - val_loss: 0.3542 - val_main_output_loss: 0.3452 - val_aux_output_loss: 0.4357\n",
      "Epoch 69/100\n",
      "363/363 [==============================] - 1s 2ms/step - loss: 0.3128 - main_output_loss: 0.3049 - aux_output_loss: 0.3847 - val_loss: 0.3732 - val_main_output_loss: 0.3650 - val_aux_output_loss: 0.4474\n",
      "Epoch 70/100\n",
      "363/363 [==============================] - 1s 1ms/step - loss: 0.3141 - main_output_loss: 0.3062 - aux_output_loss: 0.3853 - val_loss: 0.3664 - val_main_output_loss: 0.3575 - val_aux_output_loss: 0.4469\n",
      "Epoch 71/100\n",
      "363/363 [==============================] - 1s 2ms/step - loss: 0.3132 - main_output_loss: 0.3053 - aux_output_loss: 0.3842 - val_loss: 0.3838 - val_main_output_loss: 0.3754 - val_aux_output_loss: 0.4590\n",
      "Epoch 72/100\n",
      "363/363 [==============================] - 0s 1ms/step - loss: 0.3134 - main_output_loss: 0.3055 - aux_output_loss: 0.3848 - val_loss: 0.3701 - val_main_output_loss: 0.3614 - val_aux_output_loss: 0.4479\n",
      "Epoch 73/100\n",
      "363/363 [==============================] - 1s 1ms/step - loss: 0.3139 - main_output_loss: 0.3060 - aux_output_loss: 0.3850 - val_loss: 0.3695 - val_main_output_loss: 0.3609 - val_aux_output_loss: 0.4466\n",
      "Epoch 74/100\n",
      "363/363 [==============================] - 0s 1ms/step - loss: 0.3124 - main_output_loss: 0.3046 - aux_output_loss: 0.3822 - val_loss: 0.3554 - val_main_output_loss: 0.3465 - val_aux_output_loss: 0.4351\n",
      "Epoch 75/100\n",
      "363/363 [==============================] - 0s 1ms/step - loss: 0.3139 - main_output_loss: 0.3062 - aux_output_loss: 0.3835 - val_loss: 0.3745 - val_main_output_loss: 0.3651 - val_aux_output_loss: 0.4592\n",
      "Epoch 76/100\n",
      "363/363 [==============================] - 1s 1ms/step - loss: 0.3124 - main_output_loss: 0.3043 - aux_output_loss: 0.3846 - val_loss: 0.3685 - val_main_output_loss: 0.3598 - val_aux_output_loss: 0.4472\n"
     ]
    },
    {
     "name": "stdout",
     "output_type": "stream",
     "text": [
      "Epoch 77/100\n",
      "363/363 [==============================] - 0s 1ms/step - loss: 0.3126 - main_output_loss: 0.3048 - aux_output_loss: 0.3829 - val_loss: 0.3661 - val_main_output_loss: 0.3576 - val_aux_output_loss: 0.4426\n",
      "Epoch 78/100\n",
      "363/363 [==============================] - 1s 1ms/step - loss: 0.3162 - main_output_loss: 0.3088 - aux_output_loss: 0.3824 - val_loss: 0.3734 - val_main_output_loss: 0.3646 - val_aux_output_loss: 0.4533\n",
      "Epoch 79/100\n",
      "363/363 [==============================] - 1s 2ms/step - loss: 0.3115 - main_output_loss: 0.3037 - aux_output_loss: 0.3815 - val_loss: 0.3564 - val_main_output_loss: 0.3475 - val_aux_output_loss: 0.4361\n",
      "Epoch 80/100\n",
      "363/363 [==============================] - 1s 2ms/step - loss: 0.3104 - main_output_loss: 0.3028 - aux_output_loss: 0.3792 - val_loss: 0.3591 - val_main_output_loss: 0.3502 - val_aux_output_loss: 0.4397\n",
      "Epoch 81/100\n",
      "363/363 [==============================] - 1s 1ms/step - loss: 0.3105 - main_output_loss: 0.3028 - aux_output_loss: 0.3802 - val_loss: 0.3580 - val_main_output_loss: 0.3495 - val_aux_output_loss: 0.4344\n",
      "Epoch 82/100\n",
      "363/363 [==============================] - 0s 1ms/step - loss: 0.3114 - main_output_loss: 0.3037 - aux_output_loss: 0.3802 - val_loss: 0.3742 - val_main_output_loss: 0.3656 - val_aux_output_loss: 0.4513\n",
      "Epoch 83/100\n",
      "363/363 [==============================] - 1s 1ms/step - loss: 0.3086 - main_output_loss: 0.3009 - aux_output_loss: 0.3773 - val_loss: 0.3473 - val_main_output_loss: 0.3388 - val_aux_output_loss: 0.4240\n",
      "Epoch 84/100\n",
      "363/363 [==============================] - 1s 1ms/step - loss: 0.3101 - main_output_loss: 0.3025 - aux_output_loss: 0.3793 - val_loss: 0.3658 - val_main_output_loss: 0.3576 - val_aux_output_loss: 0.4400\n",
      "Epoch 85/100\n",
      "363/363 [==============================] - 1s 1ms/step - loss: 0.3096 - main_output_loss: 0.3021 - aux_output_loss: 0.3770 - val_loss: 0.3623 - val_main_output_loss: 0.3539 - val_aux_output_loss: 0.4381\n",
      "Epoch 86/100\n",
      "363/363 [==============================] - 1s 1ms/step - loss: 0.3130 - main_output_loss: 0.3057 - aux_output_loss: 0.3787 - val_loss: 0.3759 - val_main_output_loss: 0.3677 - val_aux_output_loss: 0.4496\n",
      "Epoch 87/100\n",
      "363/363 [==============================] - 0s 1ms/step - loss: 0.3085 - main_output_loss: 0.3008 - aux_output_loss: 0.3771 - val_loss: 0.3570 - val_main_output_loss: 0.3484 - val_aux_output_loss: 0.4341\n",
      "Epoch 88/100\n",
      "363/363 [==============================] - 0s 1ms/step - loss: 0.3096 - main_output_loss: 0.3021 - aux_output_loss: 0.3776 - val_loss: 0.3774 - val_main_output_loss: 0.3692 - val_aux_output_loss: 0.4511\n",
      "Epoch 89/100\n",
      "363/363 [==============================] - 1s 1ms/step - loss: 0.3083 - main_output_loss: 0.3006 - aux_output_loss: 0.3773 - val_loss: 0.3539 - val_main_output_loss: 0.3456 - val_aux_output_loss: 0.4289\n",
      "Epoch 90/100\n",
      "363/363 [==============================] - 1s 1ms/step - loss: 0.3075 - main_output_loss: 0.3000 - aux_output_loss: 0.3755 - val_loss: 0.3655 - val_main_output_loss: 0.3571 - val_aux_output_loss: 0.4410\n",
      "Epoch 91/100\n",
      "363/363 [==============================] - 1s 1ms/step - loss: 0.3077 - main_output_loss: 0.3001 - aux_output_loss: 0.3757 - val_loss: 0.3549 - val_main_output_loss: 0.3466 - val_aux_output_loss: 0.4295\n",
      "Epoch 92/100\n",
      "363/363 [==============================] - 0s 1ms/step - loss: 0.3081 - main_output_loss: 0.3007 - aux_output_loss: 0.3750 - val_loss: 0.3958 - val_main_output_loss: 0.3878 - val_aux_output_loss: 0.4679\n",
      "Epoch 93/100\n",
      "363/363 [==============================] - 0s 1ms/step - loss: 0.3064 - main_output_loss: 0.2988 - aux_output_loss: 0.3752 - val_loss: 0.3493 - val_main_output_loss: 0.3409 - val_aux_output_loss: 0.4250\n",
      "Epoch 94/100\n",
      "363/363 [==============================] - 0s 1ms/step - loss: 0.3064 - main_output_loss: 0.2989 - aux_output_loss: 0.3735 - val_loss: 0.3623 - val_main_output_loss: 0.3541 - val_aux_output_loss: 0.4359\n",
      "Epoch 95/100\n",
      "363/363 [==============================] - 0s 1ms/step - loss: 0.3070 - main_output_loss: 0.2995 - aux_output_loss: 0.3743 - val_loss: 0.3569 - val_main_output_loss: 0.3487 - val_aux_output_loss: 0.4305\n",
      "Epoch 96/100\n",
      "363/363 [==============================] - 0s 1ms/step - loss: 0.3064 - main_output_loss: 0.2989 - aux_output_loss: 0.3737 - val_loss: 0.3509 - val_main_output_loss: 0.3428 - val_aux_output_loss: 0.4238\n",
      "Epoch 97/100\n",
      "363/363 [==============================] - 0s 1ms/step - loss: 0.3065 - main_output_loss: 0.2992 - aux_output_loss: 0.3729 - val_loss: 0.3657 - val_main_output_loss: 0.3577 - val_aux_output_loss: 0.4380\n",
      "Epoch 98/100\n",
      "363/363 [==============================] - 0s 1ms/step - loss: 0.3070 - main_output_loss: 0.2995 - aux_output_loss: 0.3744 - val_loss: 0.3864 - val_main_output_loss: 0.3801 - val_aux_output_loss: 0.4430\n",
      "Epoch 99/100\n",
      "363/363 [==============================] - 0s 1ms/step - loss: 0.3071 - main_output_loss: 0.2997 - aux_output_loss: 0.3742 - val_loss: 0.3514 - val_main_output_loss: 0.3431 - val_aux_output_loss: 0.4261\n",
      "Epoch 100/100\n",
      "363/363 [==============================] - 1s 1ms/step - loss: 0.3057 - main_output_loss: 0.2983 - aux_output_loss: 0.3718 - val_loss: 0.3865 - val_main_output_loss: 0.3784 - val_aux_output_loss: 0.4594\n"
     ]
    }
   ],
   "source": [
    "history = model.fit([X_train_A, X_train_B], [y_train, y_train], epochs=100, \n",
    "                     validation_data=([X_val_A, X_val_B], [y_val, y_val]))"
   ]
  },
  {
   "cell_type": "code",
   "execution_count": 72,
   "id": "7e7eb3ca",
   "metadata": {},
   "outputs": [
    {
     "data": {
      "text/plain": [
       "(0.0, 1.0)"
      ]
     },
     "execution_count": 72,
     "metadata": {},
     "output_type": "execute_result"
    },
    {
     "data": {
      "image/png": "[encoded data removed]",
      "text/plain": [
       "<Figure size 576x360 with 1 Axes>"
      ]
     },
     "metadata": {
      "needs_background": "light"
     },
     "output_type": "display_data"
    }
   ],
   "source": [
    "pd.DataFrame(history.history).plot(figsize=(8, 5))\n",
    "plt.grid(True)\n",
    "plt.gca().set_ylim(0, 1)"
   ]
  },
  {
   "cell_type": "code",
   "execution_count": 73,
   "id": "1f522789",
   "metadata": {},
   "outputs": [
    {
     "name": "stdout",
     "output_type": "stream",
     "text": [
      "162/162 [==============================] - 0s 847us/step - loss: 0.4290 - main_output_loss: 0.4143 - aux_output_loss: 0.5609\n"
     ]
    }
   ],
   "source": [
    "total_loss, main_loss, aux_loss = model.evaluate([X_test_A, X_test_B], [y_test, y_test])"
   ]
  },
  {
   "cell_type": "code",
   "execution_count": 74,
   "id": "30dafdc1",
   "metadata": {},
   "outputs": [
    {
     "name": "stdout",
     "output_type": "stream",
     "text": [
      "1/1 [==============================] - 0s 48ms/step\n"
     ]
    }
   ],
   "source": [
    "y_pred_main, y_ped_aux = model.predict([X_new_A, X_new_B])"
   ]
  },
  {
   "cell_type": "code",
   "execution_count": 75,
   "id": "cd323b6c",
   "metadata": {},
   "outputs": [
    {
     "name": "stdout",
     "output_type": "stream",
     "text": [
      "[[1.7432425]\n",
      " [1.8518445]\n",
      " [2.449296 ]] [[1.8435451]\n",
      " [1.79163  ]\n",
      " [2.4531193]]\n"
     ]
    }
   ],
   "source": [
    "print(y_pred_main, y_ped_aux)"
   ]
  },
  {
   "cell_type": "markdown",
   "id": "0fd37cd7",
   "metadata": {},
   "source": [
    "# Using the Subclassing API to Build Dynamic Models"
   ]
  },
  {
   "cell_type": "code",
   "execution_count": 78,
   "id": "567c7bf3",
   "metadata": {},
   "outputs": [],
   "source": [
    "class WideAndDeepModel(keras.Model):\n",
    "    def __init__(self, units=30, activation=\"relu\", **kwargs):\n",
    "        super().__init__(**kwargs)\n",
    "        self.hidden1 = keras.layers.Dense(units, activation=activation)\n",
    "        self.hidden2 = keras.layers.Dense(units, activation=activation)\n",
    "        self.main_output = keras.layers.Dense(1)\n",
    "        self.aux_output = keras.layers.Dense(1)\n",
    "        \n",
    "    def call(self, inputs):\n",
    "        input_A, input_B = inputs\n",
    "        hidden1 = self.hidden1(input_B)\n",
    "        hidden2 = self.hidden2(hidden1)\n",
    "        concat = keras.layers.concatenate([\"input_A, hidden2\"])\n",
    "        main_output = self.main_output(concat)\n",
    "        aux_output = self.aux_output(hidden2)\n",
    "        return main_output, aux_output\n",
    "    \n",
    "model = WideAndDeepModel()"
   ]
  },
  {
   "cell_type": "code",
   "execution_count": 79,
   "id": "c0044d87",
   "metadata": {},
   "outputs": [
    {
     "ename": "ValueError",
     "evalue": "too many values to unpack (expected 2)",
     "output_type": "error",
     "traceback": [
      "\u001b[1;31m---------------------------------------------------------------------------\u001b[0m",
      "\u001b[1;31mValueError\u001b[0m                                Traceback (most recent call last)",
      "Input \u001b[1;32mIn [79]\u001b[0m, in \u001b[0;36m<cell line: 1>\u001b[1;34m()\u001b[0m\n\u001b[1;32m----> 1\u001b[0m result \u001b[38;5;241m=\u001b[39m \u001b[43mmodel\u001b[49m\u001b[38;5;241;43m.\u001b[39;49m\u001b[43mcall\u001b[49m\u001b[43m(\u001b[49m\u001b[43mX_train\u001b[49m\u001b[43m)\u001b[49m\n",
      "Input \u001b[1;32mIn [78]\u001b[0m, in \u001b[0;36mWideAndDeepModel.call\u001b[1;34m(self, inputs)\u001b[0m\n\u001b[0;32m      9\u001b[0m \u001b[38;5;28;01mdef\u001b[39;00m \u001b[38;5;21mcall\u001b[39m(\u001b[38;5;28mself\u001b[39m, inputs):\n\u001b[1;32m---> 10\u001b[0m     input_A, input_B \u001b[38;5;241m=\u001b[39m inputs\n\u001b[0;32m     11\u001b[0m     hidden1 \u001b[38;5;241m=\u001b[39m \u001b[38;5;28mself\u001b[39m\u001b[38;5;241m.\u001b[39mhidden1(input_B)\n\u001b[0;32m     12\u001b[0m     hidden2 \u001b[38;5;241m=\u001b[39m \u001b[38;5;28mself\u001b[39m\u001b[38;5;241m.\u001b[39mhidden2(hidden1)\n",
      "\u001b[1;31mValueError\u001b[0m: too many values to unpack (expected 2)"
     ]
    }
   ],
   "source": []
  },
  {
   "cell_type": "code",
   "execution_count": null,
   "id": "380b6163",
   "metadata": {},
   "outputs": [],
   "source": []
  }
 ],
 "metadata": {
  "kernelspec": {
   "display_name": "Python 3 (ipykernel)",
   "language": "python",
   "name": "python3"
  },
  "language_info": {
   "codemirror_mode": {
    "name": "ipython",
    "version": 3
   },
   "file_extension": ".py",
   "mimetype": "text/x-python",
   "name": "python",
   "nbconvert_exporter": "python",
   "pygments_lexer": "ipython3",
   "version": "3.9.10"
  }
 },
 "nbformat": 4,
 "nbformat_minor": 5
}
