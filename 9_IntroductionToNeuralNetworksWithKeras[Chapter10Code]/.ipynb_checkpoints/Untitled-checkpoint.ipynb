{
 "cells": [
  {
   "cell_type": "code",
   "execution_count": 1,
   "id": "23523bc9",
   "metadata": {},
   "outputs": [],
   "source": [
    "import tensorflow as tf\n",
    "from tensorflow import keras"
   ]
  },
  {
   "cell_type": "code",
   "execution_count": 2,
   "id": "319bf902",
   "metadata": {},
   "outputs": [],
   "source": [
    "(X_train_full, y_train_full), (X_test, y_test) = keras.datasets.mnist.load_data()"
   ]
  },
  {
   "cell_type": "code",
   "execution_count": 3,
   "id": "d2962204",
   "metadata": {},
   "outputs": [],
   "source": [
    "X_train, X_val = X_train_full[:55000]/255, X_train_full[55000:]/255\n",
    "y_train, y_val = y_train_full[:55000], y_train_full[55000:]"
   ]
  },
  {
   "cell_type": "code",
   "execution_count": 19,
   "id": "5174f1b6",
   "metadata": {},
   "outputs": [
    {
     "data": {
      "text/plain": [
       "(55000, 28, 28)"
      ]
     },
     "execution_count": 19,
     "metadata": {},
     "output_type": "execute_result"
    }
   ],
   "source": [
    "X_train.shape"
   ]
  },
  {
   "cell_type": "code",
   "execution_count": 21,
   "id": "d8127fa2",
   "metadata": {},
   "outputs": [],
   "source": [
    "model = keras.models.Sequential([\n",
    "    keras.layers.Flatten(input_shape=[28, 28]),\n",
    "    keras.layers.Dense(300, activation=\"relu\"),\n",
    "    keras.layers.Dense(100, activation=\"relu\"),\n",
    "    keras.layers.Dense(10, activation=\"softmax\")\n",
    "])"
   ]
  },
  {
   "cell_type": "code",
   "execution_count": 22,
   "id": "d4f94823",
   "metadata": {},
   "outputs": [],
   "source": [
    "import numpy as np\n",
    "\n",
    "keras.backend.clear_session()\n",
    "np.random.seed(42)\n",
    "tf.random.set_seed(42)"
   ]
  },
  {
   "cell_type": "code",
   "execution_count": 23,
   "id": "6a7bea5a",
   "metadata": {},
   "outputs": [],
   "source": [
    "model.compile(loss=\"sparse_categorical_crossentropy\",\n",
    "              optimizer=keras.optimizers.SGD(learning_rate=3e-1),\n",
    "              metrics=[\"accuracy\"])"
   ]
  },
  {
   "cell_type": "code",
   "execution_count": 24,
   "id": "b4d5b7cc",
   "metadata": {},
   "outputs": [
    {
     "name": "stdout",
     "output_type": "stream",
     "text": [
      "Epoch 1/30\n",
      "1719/1719 [==============================] - 4s 2ms/step - loss: 0.2379 - accuracy: 0.9265 - val_loss: 0.0991 - val_accuracy: 0.9688\n",
      "Epoch 2/30\n",
      "1719/1719 [==============================] - 3s 2ms/step - loss: 0.0956 - accuracy: 0.9702 - val_loss: 0.0874 - val_accuracy: 0.9758\n",
      "Epoch 3/30\n",
      "1719/1719 [==============================] - 3s 2ms/step - loss: 0.0679 - accuracy: 0.9785 - val_loss: 0.0713 - val_accuracy: 0.9818\n",
      "Epoch 4/30\n",
      "1719/1719 [==============================] - 3s 2ms/step - loss: 0.0498 - accuracy: 0.9837 - val_loss: 0.0708 - val_accuracy: 0.9808\n",
      "Epoch 5/30\n",
      "1719/1719 [==============================] - 3s 2ms/step - loss: 0.0360 - accuracy: 0.9886 - val_loss: 0.0689 - val_accuracy: 0.9824\n",
      "Epoch 6/30\n",
      "1719/1719 [==============================] - 3s 2ms/step - loss: 0.0281 - accuracy: 0.9907 - val_loss: 0.0818 - val_accuracy: 0.9806\n",
      "Epoch 7/30\n",
      "1719/1719 [==============================] - 3s 2ms/step - loss: 0.0237 - accuracy: 0.9922 - val_loss: 0.0697 - val_accuracy: 0.9838\n",
      "Epoch 8/30\n",
      "1719/1719 [==============================] - 3s 2ms/step - loss: 0.0221 - accuracy: 0.9931 - val_loss: 0.0700 - val_accuracy: 0.9828\n",
      "Epoch 9/30\n",
      "1719/1719 [==============================] - 3s 2ms/step - loss: 0.0169 - accuracy: 0.9943 - val_loss: 0.0719 - val_accuracy: 0.9842\n",
      "Epoch 10/30\n",
      "1719/1719 [==============================] - 3s 2ms/step - loss: 0.0120 - accuracy: 0.9959 - val_loss: 0.0904 - val_accuracy: 0.9796\n",
      "Epoch 11/30\n",
      "1719/1719 [==============================] - 3s 2ms/step - loss: 0.0141 - accuracy: 0.9954 - val_loss: 0.0900 - val_accuracy: 0.9826\n",
      "Epoch 12/30\n",
      "1719/1719 [==============================] - 3s 2ms/step - loss: 0.0114 - accuracy: 0.9964 - val_loss: 0.0813 - val_accuracy: 0.9824\n",
      "Epoch 13/30\n",
      "1719/1719 [==============================] - 3s 2ms/step - loss: 0.0097 - accuracy: 0.9969 - val_loss: 0.0820 - val_accuracy: 0.9820\n",
      "Epoch 14/30\n",
      "1719/1719 [==============================] - 3s 2ms/step - loss: 0.0055 - accuracy: 0.9982 - val_loss: 0.0858 - val_accuracy: 0.9840\n",
      "Epoch 15/30\n",
      "1719/1719 [==============================] - 3s 2ms/step - loss: 0.0137 - accuracy: 0.9954 - val_loss: 0.1050 - val_accuracy: 0.9770\n",
      "Epoch 16/30\n",
      "1719/1719 [==============================] - 3s 2ms/step - loss: 0.0110 - accuracy: 0.9966 - val_loss: 0.0787 - val_accuracy: 0.9866\n",
      "Epoch 17/30\n",
      "1719/1719 [==============================] - 3s 2ms/step - loss: 0.0072 - accuracy: 0.9976 - val_loss: 0.0939 - val_accuracy: 0.9842\n",
      "Epoch 18/30\n",
      "1719/1719 [==============================] - 3s 2ms/step - loss: 0.0024 - accuracy: 0.9991 - val_loss: 0.1048 - val_accuracy: 0.9830\n",
      "Epoch 19/30\n",
      "1719/1719 [==============================] - 3s 2ms/step - loss: 0.0028 - accuracy: 0.9991 - val_loss: 0.0880 - val_accuracy: 0.9860\n",
      "Epoch 20/30\n",
      "1719/1719 [==============================] - 3s 2ms/step - loss: 0.0031 - accuracy: 0.9991 - val_loss: 0.0753 - val_accuracy: 0.9880\n",
      "Epoch 21/30\n",
      "1719/1719 [==============================] - 3s 2ms/step - loss: 3.7482e-04 - accuracy: 1.0000 - val_loss: 0.0767 - val_accuracy: 0.9884\n",
      "Epoch 22/30\n",
      "1719/1719 [==============================] - 3s 2ms/step - loss: 1.9718e-04 - accuracy: 1.0000 - val_loss: 0.0730 - val_accuracy: 0.9898\n",
      "Epoch 23/30\n",
      "1719/1719 [==============================] - 3s 2ms/step - loss: 7.0306e-05 - accuracy: 1.0000 - val_loss: 0.0731 - val_accuracy: 0.9894\n",
      "Epoch 24/30\n",
      "1719/1719 [==============================] - 3s 2ms/step - loss: 5.1773e-05 - accuracy: 1.0000 - val_loss: 0.0741 - val_accuracy: 0.9894\n",
      "Epoch 25/30\n",
      "1719/1719 [==============================] - 3s 2ms/step - loss: 4.4415e-05 - accuracy: 1.0000 - val_loss: 0.0745 - val_accuracy: 0.9894\n",
      "Epoch 26/30\n",
      "1719/1719 [==============================] - 3s 2ms/step - loss: 3.9301e-05 - accuracy: 1.0000 - val_loss: 0.0750 - val_accuracy: 0.9896\n",
      "Epoch 27/30\n",
      "1719/1719 [==============================] - 3s 2ms/step - loss: 3.5493e-05 - accuracy: 1.0000 - val_loss: 0.0755 - val_accuracy: 0.9896\n",
      "Epoch 28/30\n",
      "1719/1719 [==============================] - 3s 2ms/step - loss: 3.2443e-05 - accuracy: 1.0000 - val_loss: 0.0758 - val_accuracy: 0.9894\n",
      "Epoch 29/30\n",
      "1719/1719 [==============================] - 3s 2ms/step - loss: 3.0009e-05 - accuracy: 1.0000 - val_loss: 0.0763 - val_accuracy: 0.9894\n",
      "Epoch 30/30\n",
      "1719/1719 [==============================] - 3s 2ms/step - loss: 2.7928e-05 - accuracy: 1.0000 - val_loss: 0.0765 - val_accuracy: 0.9892\n"
     ]
    },
    {
     "data": {
      "text/plain": [
       "<keras.callbacks.History at 0x26bf631ff40>"
      ]
     },
     "execution_count": 24,
     "metadata": {},
     "output_type": "execute_result"
    }
   ],
   "source": [
    "model.fit(X_train, y_train, epochs=30, validation_data=(X_val, y_val))"
   ]
  },
  {
   "cell_type": "code",
   "execution_count": null,
   "id": "c62d450f",
   "metadata": {},
   "outputs": [],
   "source": []
  }
 ],
 "metadata": {
  "kernelspec": {
   "display_name": "Python 3 (ipykernel)",
   "language": "python",
   "name": "python3"
  },
  "language_info": {
   "codemirror_mode": {
    "name": "ipython",
    "version": 3
   },
   "file_extension": ".py",
   "mimetype": "text/x-python",
   "name": "python",
   "nbconvert_exporter": "python",
   "pygments_lexer": "ipython3",
   "version": "3.9.10"
  }
 },
 "nbformat": 4,
 "nbformat_minor": 5
}
