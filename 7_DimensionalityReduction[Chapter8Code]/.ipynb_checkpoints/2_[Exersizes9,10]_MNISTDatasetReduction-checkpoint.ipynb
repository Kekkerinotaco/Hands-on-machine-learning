{
 "cells": [
  {
   "cell_type": "markdown",
   "id": "da252cbd",
   "metadata": {},
   "source": [
    "# Exersize 9\n",
    "# Task\n",
    "\n",
    "Load the MNIST dataset (introduced in Chapter 3) and split it into a training set\n",
    "and a test set (take the first 60,000 instances for training, and the remaining\n",
    "10,000 for testing). Train a Random Forest classifier on the dataset and time how\n",
    "long it takes, then evaluate the resulting model on the test set. Next, use PCA to\n",
    "reduce the dataset’s dimensionality, with an explained variance ratio of 95%.\n",
    "Train a new Random Forest classifier on the reduced dataset and see how long it\n",
    "takes. Was training much faster? Next, evaluate"
   ]
  },
  {
   "cell_type": "markdown",
   "id": "cb80c42d",
   "metadata": {},
   "source": [
    "# Downloading and splitting the Data"
   ]
  },
  {
   "cell_type": "code",
   "execution_count": 1,
   "id": "5395a019",
   "metadata": {},
   "outputs": [],
   "source": [
    "from sklearn.datasets import fetch_openml\n",
    "\n",
    "mnist = fetch_openml(\"mnist_784\", version=1)"
   ]
  },
  {
   "cell_type": "code",
   "execution_count": 2,
   "id": "1d2ee751",
   "metadata": {},
   "outputs": [],
   "source": [
    "x_train = mnist[\"data\"][:60000]\n",
    "x_test = mnist[\"data\"][60000:]\n",
    "y_train = mnist[\"target\"][:60000]\n",
    "y_test = mnist[\"target\"][60000:]"
   ]
  },
  {
   "cell_type": "markdown",
   "id": "b5179686",
   "metadata": {},
   "source": [
    "# Training an estimator on original Dataset"
   ]
  },
  {
   "cell_type": "code",
   "execution_count": 4,
   "id": "62cef63a",
   "metadata": {},
   "outputs": [],
   "source": [
    "from sklearn.ensemble import RandomForestClassifier\n",
    "from sklearn.model_selection import GridSearchCV\n",
    "import numpy as np\n",
    "\n",
    "forest_clf = RandomForestClassifier(n_estimators = 100,\n",
    "                                    random_state=42)"
   ]
  },
  {
   "cell_type": "code",
   "execution_count": 5,
   "id": "ee13fc41",
   "metadata": {},
   "outputs": [
    {
     "name": "stdout",
     "output_type": "stream",
     "text": [
      "Time for training on original dataset:  32.832902669906616\n"
     ]
    }
   ],
   "source": [
    "import time\n",
    "\n",
    "t0 = time.time()\n",
    "forest_clf.fit(x_train, y_train)\n",
    "t1 = time.time()\n",
    "\n",
    "print(\"Time for training on original dataset: \", t1 - t0)"
   ]
  },
  {
   "cell_type": "code",
   "execution_count": 6,
   "id": "f330b597",
   "metadata": {},
   "outputs": [
    {
     "data": {
      "text/plain": [
       "0.9705"
      ]
     },
     "execution_count": 6,
     "metadata": {},
     "output_type": "execute_result"
    }
   ],
   "source": [
    "from sklearn.metrics import accuracy_score\n",
    "\n",
    "y_hat = forest_clf.predict(x_test)\n",
    "accuracy_score(y_test, y_hat)"
   ]
  },
  {
   "cell_type": "markdown",
   "id": "72850c06",
   "metadata": {},
   "source": [
    "# Training estimator on transformed dataset"
   ]
  },
  {
   "cell_type": "code",
   "execution_count": 7,
   "id": "6b4ade92",
   "metadata": {},
   "outputs": [],
   "source": [
    "from sklearn.decomposition import PCA\n",
    "\n",
    "pca = PCA(n_components = 0.95)\n",
    "pca.fit(x_train, y_train)\n",
    "x_train_transformed = pca.transform(x_train)\n",
    "\n",
    "forest_clf = RandomForestClassifier(n_estimators = 100,\n",
    "                                    random_state=42)"
   ]
  },
  {
   "cell_type": "code",
   "execution_count": 8,
   "id": "722a1265",
   "metadata": {},
   "outputs": [
    {
     "name": "stdout",
     "output_type": "stream",
     "text": [
      "Time for training on transformed dataset:  80.17137789726257\n"
     ]
    }
   ],
   "source": [
    "t0 = time.time()\n",
    "forest_clf.fit(x_train_transformed, y_train)\n",
    "t1 = time.time()\n",
    "print(\"Time for training on transformed dataset: \", t1 - t0)"
   ]
  },
  {
   "cell_type": "code",
   "execution_count": 9,
   "id": "95903b53",
   "metadata": {},
   "outputs": [
    {
     "data": {
      "text/plain": [
       "0.9481"
      ]
     },
     "execution_count": 9,
     "metadata": {},
     "output_type": "execute_result"
    }
   ],
   "source": [
    "x_test_transformed = pca.transform(x_test)\n",
    "y_hat = forest_clf.predict(x_test_transformed)\n",
    "accuracy_score(y_test, y_hat)"
   ]
  },
  {
   "cell_type": "markdown",
   "id": "8bd9ec28",
   "metadata": {},
   "source": [
    "# Training a softmax model"
   ]
  },
  {
   "cell_type": "code",
   "execution_count": 10,
   "id": "55caa60b",
   "metadata": {},
   "outputs": [
    {
     "name": "stderr",
     "output_type": "stream",
     "text": [
      "C:\\python\\lib\\site-packages\\sklearn\\linear_model\\_logistic.py:444: ConvergenceWarning: lbfgs failed to converge (status=1):\n",
      "STOP: TOTAL NO. of ITERATIONS REACHED LIMIT.\n",
      "\n",
      "Increase the number of iterations (max_iter) or scale the data as shown in:\n",
      "    https://scikit-learn.org/stable/modules/preprocessing.html\n",
      "Please also refer to the documentation for alternative solver options:\n",
      "    https://scikit-learn.org/stable/modules/linear_model.html#logistic-regression\n",
      "  n_iter_i = _check_optimize_result(\n"
     ]
    }
   ],
   "source": [
    "from sklearn.linear_model import LogisticRegression\n",
    "\n",
    "log_clf = LogisticRegression(multi_class=\"multinomial\",\n",
    "                             solver=\"lbfgs\",\n",
    "                             random_state=42)\n",
    "\n",
    "t0 = time.time()\n",
    "log_clf.fit(x_train, y_train)\n",
    "t1 = time.time()"
   ]
  },
  {
   "cell_type": "code",
   "execution_count": 11,
   "id": "c61b3e2c",
   "metadata": {},
   "outputs": [
    {
     "name": "stdout",
     "output_type": "stream",
     "text": [
      "Time for training on original dataset:  12.373929500579834\n"
     ]
    }
   ],
   "source": [
    "print(\"Time for training on original dataset: \", t1 - t0)"
   ]
  },
  {
   "cell_type": "code",
   "execution_count": 12,
   "id": "62931f33",
   "metadata": {},
   "outputs": [
    {
     "data": {
      "text/plain": [
       "0.9255"
      ]
     },
     "execution_count": 12,
     "metadata": {},
     "output_type": "execute_result"
    }
   ],
   "source": [
    "y_hat = log_clf.predict(x_test)\n",
    "accuracy_score(y_test, y_hat)"
   ]
  },
  {
   "cell_type": "code",
   "execution_count": 13,
   "id": "d1bf82b7",
   "metadata": {},
   "outputs": [
    {
     "name": "stderr",
     "output_type": "stream",
     "text": [
      "C:\\python\\lib\\site-packages\\sklearn\\linear_model\\_logistic.py:444: ConvergenceWarning: lbfgs failed to converge (status=1):\n",
      "STOP: TOTAL NO. of ITERATIONS REACHED LIMIT.\n",
      "\n",
      "Increase the number of iterations (max_iter) or scale the data as shown in:\n",
      "    https://scikit-learn.org/stable/modules/preprocessing.html\n",
      "Please also refer to the documentation for alternative solver options:\n",
      "    https://scikit-learn.org/stable/modules/linear_model.html#logistic-regression\n",
      "  n_iter_i = _check_optimize_result(\n"
     ]
    }
   ],
   "source": [
    "log_clf2 = LogisticRegression(multi_class=\"multinomial\",\n",
    "                              solver=\"lbfgs\",\n",
    "                              random_state=42)\n",
    "\n",
    "t0 = time.time()\n",
    "log_clf2.fit(x_train_transformed, y_train)\n",
    "t1 = time.time()"
   ]
  },
  {
   "cell_type": "code",
   "execution_count": 14,
   "id": "c9093d1b",
   "metadata": {},
   "outputs": [
    {
     "name": "stdout",
     "output_type": "stream",
     "text": [
      "Time for training on transformed dataset:  3.9129631519317627\n"
     ]
    }
   ],
   "source": [
    "print(\"Time for training on transformed dataset: \", t1 - t0)"
   ]
  },
  {
   "cell_type": "code",
   "execution_count": 15,
   "id": "1813d78b",
   "metadata": {},
   "outputs": [
    {
     "data": {
      "text/plain": [
       "0.9201"
      ]
     },
     "execution_count": 15,
     "metadata": {},
     "output_type": "execute_result"
    }
   ],
   "source": [
    "y_hat = log_clf2.predict(x_test_transformed)\n",
    "accuracy_score(y_test, y_hat)"
   ]
  },
  {
   "cell_type": "markdown",
   "id": "026d7a09",
   "metadata": {},
   "source": [
    "# Exersize 10 \n",
    "# Task\n",
    "\n",
    "Use t-SNE to reduce the MNIST dataset down to two dimensions and plot the result using Matplotlib. You can use a scatterplot using 10 different colors to represent each image's target class."
   ]
  },
  {
   "cell_type": "code",
   "execution_count": 48,
   "id": "5561e805",
   "metadata": {},
   "outputs": [
    {
     "data": {
      "text/html": [
       "<div>\n",
       "<style scoped>\n",
       "    .dataframe tbody tr th:only-of-type {\n",
       "        vertical-align: middle;\n",
       "    }\n",
       "\n",
       "    .dataframe tbody tr th {\n",
       "        vertical-align: top;\n",
       "    }\n",
       "\n",
       "    .dataframe thead th {\n",
       "        text-align: right;\n",
       "    }\n",
       "</style>\n",
       "<table border=\"1\" class=\"dataframe\">\n",
       "  <thead>\n",
       "    <tr style=\"text-align: right;\">\n",
       "      <th></th>\n",
       "      <th>pixel1</th>\n",
       "      <th>pixel2</th>\n",
       "      <th>pixel3</th>\n",
       "      <th>pixel4</th>\n",
       "      <th>pixel5</th>\n",
       "      <th>pixel6</th>\n",
       "      <th>pixel7</th>\n",
       "      <th>pixel8</th>\n",
       "      <th>pixel9</th>\n",
       "      <th>pixel10</th>\n",
       "      <th>...</th>\n",
       "      <th>pixel775</th>\n",
       "      <th>pixel776</th>\n",
       "      <th>pixel777</th>\n",
       "      <th>pixel778</th>\n",
       "      <th>pixel779</th>\n",
       "      <th>pixel780</th>\n",
       "      <th>pixel781</th>\n",
       "      <th>pixel782</th>\n",
       "      <th>pixel783</th>\n",
       "      <th>pixel784</th>\n",
       "    </tr>\n",
       "  </thead>\n",
       "  <tbody>\n",
       "    <tr>\n",
       "      <th>1</th>\n",
       "      <td>0.0</td>\n",
       "      <td>0.0</td>\n",
       "      <td>0.0</td>\n",
       "      <td>0.0</td>\n",
       "      <td>0.0</td>\n",
       "      <td>0.0</td>\n",
       "      <td>0.0</td>\n",
       "      <td>0.0</td>\n",
       "      <td>0.0</td>\n",
       "      <td>0.0</td>\n",
       "      <td>...</td>\n",
       "      <td>0.0</td>\n",
       "      <td>0.0</td>\n",
       "      <td>0.0</td>\n",
       "      <td>0.0</td>\n",
       "      <td>0.0</td>\n",
       "      <td>0.0</td>\n",
       "      <td>0.0</td>\n",
       "      <td>0.0</td>\n",
       "      <td>0.0</td>\n",
       "      <td>0.0</td>\n",
       "    </tr>\n",
       "  </tbody>\n",
       "</table>\n",
       "<p>1 rows × 784 columns</p>\n",
       "</div>"
      ],
      "text/plain": [
       "   pixel1  pixel2  pixel3  pixel4  pixel5  pixel6  pixel7  pixel8  pixel9  \\\n",
       "1     0.0     0.0     0.0     0.0     0.0     0.0     0.0     0.0     0.0   \n",
       "\n",
       "   pixel10  ...  pixel775  pixel776  pixel777  pixel778  pixel779  pixel780  \\\n",
       "1      0.0  ...       0.0       0.0       0.0       0.0       0.0       0.0   \n",
       "\n",
       "   pixel781  pixel782  pixel783  pixel784  \n",
       "1       0.0       0.0       0.0       0.0  \n",
       "\n",
       "[1 rows x 784 columns]"
      ]
     },
     "execution_count": 48,
     "metadata": {},
     "output_type": "execute_result"
    }
   ],
   "source": [
    "mnist.data.loc[[1]]"
   ]
  },
  {
   "cell_type": "code",
   "execution_count": 78,
   "id": "f30a4a05",
   "metadata": {},
   "outputs": [],
   "source": [
    "np.random.seed(42)\n",
    "\n",
    "m = 10000\n",
    "idx = np.random.permutation(60000)[:m]\n",
    "\n",
    "X = mnist['data'].loc[idx]\n",
    "y = mnist['target'][idx]"
   ]
  },
  {
   "cell_type": "code",
   "execution_count": 64,
   "id": "b197c44d",
   "metadata": {},
   "outputs": [
    {
     "name": "stderr",
     "output_type": "stream",
     "text": [
      "C:\\python\\lib\\site-packages\\sklearn\\manifold\\_t_sne.py:795: FutureWarning: The default initialization in TSNE will change from 'random' to 'pca' in 1.2.\n",
      "  warnings.warn(\n",
      "C:\\python\\lib\\site-packages\\sklearn\\manifold\\_t_sne.py:805: FutureWarning: The default learning rate in TSNE will change from 200.0 to 'auto' in 1.2.\n",
      "  warnings.warn(\n"
     ]
    }
   ],
   "source": [
    "from sklearn.manifold import TSNE\n",
    "\n",
    "tsne = TSNE(n_components=2, random_state=42)\n",
    "X_reduced = tsne.fit_transform(X)"
   ]
  },
  {
   "cell_type": "code",
   "execution_count": 65,
   "id": "9bb24665",
   "metadata": {},
   "outputs": [
    {
     "data": {
      "text/plain": [
       "(10000, 2)"
      ]
     },
     "execution_count": 65,
     "metadata": {},
     "output_type": "execute_result"
    }
   ],
   "source": [
    "X_reduced.shape"
   ]
  },
  {
   "cell_type": "code",
   "execution_count": 84,
   "id": "cfa525fa",
   "metadata": {},
   "outputs": [
    {
     "data": {
      "text/plain": [
       "(10000,)"
      ]
     },
     "execution_count": 84,
     "metadata": {},
     "output_type": "execute_result"
    }
   ],
   "source": [
    "y.shape"
   ]
  },
  {
   "cell_type": "markdown",
   "id": "12fb1437",
   "metadata": {},
   "source": [
    "# Stopped here"
   ]
  }
 ],
 "metadata": {
  "kernelspec": {
   "display_name": "Python 3 (ipykernel)",
   "language": "python",
   "name": "python3"
  },
  "language_info": {
   "codemirror_mode": {
    "name": "ipython",
    "version": 3
   },
   "file_extension": ".py",
   "mimetype": "text/x-python",
   "name": "python",
   "nbconvert_exporter": "python",
   "pygments_lexer": "ipython3",
   "version": "3.9.10"
  }
 },
 "nbformat": 4,
 "nbformat_minor": 5
}
