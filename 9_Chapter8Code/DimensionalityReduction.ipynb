{
 "cells": [
  {
   "cell_type": "code",
   "execution_count": 10,
   "id": "8a59623c",
   "metadata": {},
   "outputs": [],
   "source": [
    "from sklearn.datasets import load_iris\n",
    "\n",
    "iris = load_iris()\n",
    "x = iris.data\n",
    "y = iris.target"
   ]
  },
  {
   "cell_type": "code",
   "execution_count": 11,
   "id": "9210ecda",
   "metadata": {},
   "outputs": [],
   "source": [
    "from sklearn.model_selection import train_test_split\n",
    "\n",
    "x_train, x_test, y_train, y_test = train_test_split(x, y, test_size=0.2)"
   ]
  },
  {
   "cell_type": "code",
   "execution_count": 12,
   "id": "bde57e84",
   "metadata": {},
   "outputs": [],
   "source": [
    "from sklearn.decomposition import PCA\n",
    "\n",
    "pca = PCA(n_components=2)\n",
    "X2D_train = pca.fit_transform(x_train)"
   ]
  },
  {
   "cell_type": "code",
   "execution_count": 13,
   "id": "2e927b90",
   "metadata": {},
   "outputs": [
    {
     "data": {
      "text/plain": [
       "array([[ 2.26610415e+00,  3.74390896e-01],\n",
       "       [ 1.79462847e+00, -1.78232727e-01],\n",
       "       [-2.42119577e+00,  4.33844731e-01],\n",
       "       [-2.73911776e+00,  3.45386526e-01],\n",
       "       [-2.82815538e+00, -6.94932892e-02],\n",
       "       [ 9.10320279e-01, -1.56593207e-01],\n",
       "       [-2.63822969e+00,  6.19471501e-01],\n",
       "       [ 6.31483382e-01,  4.75702568e-02],\n",
       "       [ 9.74811497e-01, -9.50108352e-02],\n",
       "       [ 2.11596533e+00, -1.69951955e-01],\n",
       "       [-2.68328482e+00, -9.71320417e-02],\n",
       "       [-1.81474565e-01, -2.23137686e-01],\n",
       "       [ 2.55435522e+00,  3.20456906e-01],\n",
       "       [-2.51712478e+00, -1.27632929e-01],\n",
       "       [ 8.80735857e-01, -4.32945944e-03],\n",
       "       [ 3.48416833e+00,  4.96277822e-01],\n",
       "       [ 1.07656681e+00,  1.07561848e-01],\n",
       "       [-2.64087135e+00, -1.79343748e-01],\n",
       "       [ 6.33131379e-01, -3.90110270e-01],\n",
       "       [-2.98762187e+00, -4.69409671e-01],\n",
       "       [-2.65097977e+00,  3.31250955e-01],\n",
       "       [-2.81120215e+00,  2.85206038e-01],\n",
       "       [-2.84771035e+00, -2.09655739e-01],\n",
       "       [-2.47801484e+00,  1.52691970e-01],\n",
       "       [ 1.59219424e-01, -6.51709579e-01],\n",
       "       [-2.89771700e+00, -1.26042149e-01],\n",
       "       [-2.63658170e+00,  1.81790974e-01],\n",
       "       [ 1.40974660e+00, -5.37776668e-01],\n",
       "       [-2.87650650e+00,  8.92642220e-02],\n",
       "       [ 9.34888424e-01, -5.09695179e-01],\n",
       "       [ 3.47251574e+00,  1.21408778e+00],\n",
       "       [ 2.09739649e+00,  4.13556924e-01],\n",
       "       [-3.23093669e+00, -4.94055760e-01],\n",
       "       [-2.36533797e+00, -2.09706059e-02],\n",
       "       [ 7.98622016e-01,  2.27916249e-01],\n",
       "       [ 2.15586356e+00,  2.57029158e-01],\n",
       "       [ 8.04448314e-01, -1.30988728e-01],\n",
       "       [-2.31185480e+00,  1.22191082e-01],\n",
       "       [ 3.62611367e-02, -5.56764185e-01],\n",
       "       [ 5.82336458e-01, -4.53152894e-01],\n",
       "       [ 2.30683724e+00,  2.29332037e-01],\n",
       "       [ 1.34191948e+00, -7.37350113e-01],\n",
       "       [ 2.91786111e+00,  3.88207041e-01],\n",
       "       [-7.54705563e-01, -9.78333991e-01],\n",
       "       [ 1.89554138e+00,  8.35554795e-02],\n",
       "       [ 1.29174736e+00, -7.30223959e-01],\n",
       "       [ 2.60515014e+00,  3.83499529e-01],\n",
       "       [-2.65932131e+00,  1.19934875e+00],\n",
       "       [ 2.25312045e-01, -3.09111550e-01],\n",
       "       [ 2.38141094e-01, -2.39059509e-01],\n",
       "       [ 8.03469713e-01, -3.41835608e-01],\n",
       "       [ 2.90712989e+00,  8.28632967e-01],\n",
       "       [ 1.54627562e+00,  3.02682376e-01],\n",
       "       [ 1.65318031e+00,  2.82053041e-01],\n",
       "       [ 1.40974660e+00, -5.37776668e-01],\n",
       "       [-2.21940231e+00,  4.56893464e-01],\n",
       "       [ 8.87548284e-01,  3.60436892e-01],\n",
       "       [ 1.38349808e+00, -2.47521848e-01],\n",
       "       [-2.61183744e+00,  1.11210353e+00],\n",
       "       [ 2.52641879e+00,  3.50401263e-02],\n",
       "       [-2.62218362e+00,  3.23309937e-02],\n",
       "       [-3.00454271e+00, -3.23581319e-01],\n",
       "       [-2.79604818e+00, -2.18125408e-01],\n",
       "       [ 3.78174707e+00,  2.97917364e-01],\n",
       "       [ 3.06298365e+00,  7.31711667e-01],\n",
       "       [ 4.56744045e-01, -6.44198301e-01],\n",
       "       [-1.98593266e-01, -6.54324449e-01],\n",
       "       [ 2.34235931e+00,  5.22485421e-04],\n",
       "       [-2.51952868e+00,  6.63919063e-01],\n",
       "       [-9.12318672e-01, -7.26091337e-01],\n",
       "       [ 6.53553602e-01, -3.21460113e-01],\n",
       "       [ 2.82717549e+00,  4.11007753e-01],\n",
       "       [ 2.37276439e+00,  4.95442630e-01],\n",
       "       [-2.65857294e+00,  3.32652838e-01],\n",
       "       [-3.15527402e-01, -3.41268917e-01],\n",
       "       [ 1.16226100e+00, -1.28373858e-01],\n",
       "       [ 1.58366528e+00, -4.93192003e-01],\n",
       "       [-2.21345713e+00,  8.93172108e-01],\n",
       "       [-2.69504876e+00,  3.38318740e-01],\n",
       "       [ 2.41873336e+00,  4.21837696e-01],\n",
       "       [-2.55513725e+00,  5.98072673e-01],\n",
       "       [ 1.93636098e+00,  2.33152563e-01],\n",
       "       [ 1.08513859e+00,  3.17006845e-01],\n",
       "       [ 1.51909509e+00, -3.36605869e-01],\n",
       "       [-2.72396379e+00, -1.57944920e-01],\n",
       "       [-2.85631451e+00, -9.19628415e-01],\n",
       "       [-2.39897429e+00,  1.36052566e+00],\n",
       "       [ 1.89822963e+00,  1.63674544e-01],\n",
       "       [ 1.28348479e+00, -8.02946679e-02],\n",
       "       [ 5.19547360e-01, -1.15828753e+00],\n",
       "       [ 1.27033254e-01, -2.84908954e-01],\n",
       "       [-1.36665347e-02, -6.91319100e-01],\n",
       "       [ 1.96246887e+00, -1.45886462e-01],\n",
       "       [ 9.21501330e-01,  3.51139361e-01],\n",
       "       [ 1.10973158e+00, -4.83918967e-02],\n",
       "       [-2.66106334e+00,  8.29548888e-01],\n",
       "       [ 1.38008321e+00, -1.67344415e-01],\n",
       "       [-7.65022280e-02, -6.77757551e-01],\n",
       "       [-2.63472832e+00,  8.33950010e-01],\n",
       "       [ 1.91350248e+00,  4.55526719e-01],\n",
       "       [-2.60097312e+00,  2.47637364e-01],\n",
       "       [ 1.43342575e+00, -1.12966932e-01],\n",
       "       [-2.64680900e+00, -1.02797944e-01],\n",
       "       [-2.89354623e+00, -5.60091047e-01],\n",
       "       [ 1.37153628e+00, -3.89086181e-01],\n",
       "       [ 1.77072972e+00, -4.73658162e-01],\n",
       "       [ 1.76140271e-01, -7.97537931e-01],\n",
       "       [ 2.41200743e+00,  3.51727287e-01],\n",
       "       [-2.59680235e+00, -1.86411534e-01],\n",
       "       [ 3.38249952e+00,  5.88361081e-01],\n",
       "       [ 5.03533668e-01, -7.06193426e-02],\n",
       "       [ 3.49137581e-01, -4.75569237e-01],\n",
       "       [-2.54919960e+00,  5.21526868e-01],\n",
       "       [-3.22401291e+00,  1.53069764e-01],\n",
       "       [ 2.13902168e+00,  1.84689004e-01],\n",
       "       [ 1.28757659e+00, -2.96175060e-01],\n",
       "       [ 1.19531442e+00, -5.66686775e-01],\n",
       "       [-5.14024864e-01, -1.23967870e+00],\n",
       "       [ 1.45046548e+00,  5.36388337e-01],\n",
       "       [ 3.67825306e-01, -2.63894495e-01]])"
      ]
     },
     "execution_count": 13,
     "metadata": {},
     "output_type": "execute_result"
    }
   ],
   "source": [
    "X2D_train"
   ]
  },
  {
   "cell_type": "code",
   "execution_count": 18,
   "id": "97296996",
   "metadata": {},
   "outputs": [
    {
     "data": {
      "text/plain": [
       "array([[ 0.35608572, -0.08460424,  0.85615217,  0.36475821],\n",
       "       [ 0.6584639 ,  0.72914176, -0.177672  , -0.05665902]])"
      ]
     },
     "execution_count": 18,
     "metadata": {},
     "output_type": "execute_result"
    }
   ],
   "source": [
    "pca.components_"
   ]
  },
  {
   "cell_type": "code",
   "execution_count": 20,
   "id": "c3d5311a",
   "metadata": {},
   "outputs": [
    {
     "data": {
      "text/plain": [
       "array([0.92528538, 0.05281271])"
      ]
     },
     "execution_count": 20,
     "metadata": {},
     "output_type": "execute_result"
    }
   ],
   "source": [
    "pca.explained_variance_ratio_"
   ]
  },
  {
   "cell_type": "code",
   "execution_count": 21,
   "id": "68d580fe",
   "metadata": {},
   "outputs": [
    {
     "data": {
      "text/plain": [
       "SVC()"
      ]
     },
     "execution_count": 21,
     "metadata": {},
     "output_type": "execute_result"
    }
   ],
   "source": [
    "from sklearn.svm import SVC\n",
    "\n",
    "svm_clf = SVC()\n",
    "svm_clf.fit(X2D_train, y_train)"
   ]
  },
  {
   "cell_type": "code",
   "execution_count": 23,
   "id": "ba10e235",
   "metadata": {},
   "outputs": [
    {
     "data": {
      "text/plain": [
       "0.9583333333333334"
      ]
     },
     "execution_count": 23,
     "metadata": {},
     "output_type": "execute_result"
    }
   ],
   "source": [
    "from sklearn.metrics import accuracy_score\n",
    "\n",
    "y_hat = svm_clf.predict(X2D_train)\n",
    "accuracy_score(y_train, y_hat)"
   ]
  },
  {
   "cell_type": "code",
   "execution_count": 25,
   "id": "e255c8f8",
   "metadata": {},
   "outputs": [
    {
     "data": {
      "text/plain": [
       "0.975"
      ]
     },
     "execution_count": 25,
     "metadata": {},
     "output_type": "execute_result"
    }
   ],
   "source": [
    "svm_clf = SVC()\n",
    "svm_clf.fit(x_train, y_train)\n",
    "y_hat = svm_clf.predict(x_train)\n",
    "accuracy_score(y_train, y_hat)"
   ]
  },
  {
   "cell_type": "markdown",
   "id": "e0182474",
   "metadata": {},
   "source": [
    "# Choosing the Right number of Dimensions"
   ]
  },
  {
   "cell_type": "code",
   "execution_count": 28,
   "id": "baa28cdb",
   "metadata": {},
   "outputs": [
    {
     "name": "stdout",
     "output_type": "stream",
     "text": [
      "1.0\n"
     ]
    }
   ],
   "source": [
    "import numpy as np\n",
    "\n",
    "pca = PCA()\n",
    "pca.fit(x_train)\n",
    "summ = sum([x for x in pca.explained_variance_ratio_])\n",
    "print(summ)\n",
    "cumsum = np.cumsum(pca.explained_variance_ratio_)"
   ]
  },
  {
   "cell_type": "code",
   "execution_count": 31,
   "id": "e265c87d",
   "metadata": {},
   "outputs": [
    {
     "data": {
      "text/plain": [
       "array([0.92528538, 0.97809808, 0.99434738, 1.        ])"
      ]
     },
     "execution_count": 31,
     "metadata": {},
     "output_type": "execute_result"
    }
   ],
   "source": [
    "cumsum"
   ]
  },
  {
   "cell_type": "code",
   "execution_count": 30,
   "id": "032aa379",
   "metadata": {},
   "outputs": [],
   "source": [
    "d = np.argmax(cumsum > 0.95) + 1"
   ]
  },
  {
   "cell_type": "code",
   "execution_count": 33,
   "id": "4227a0fc",
   "metadata": {},
   "outputs": [],
   "source": [
    "pca = PCA(n_components=0.95)\n",
    "X_reduced = pca.fit_transform(x_train)"
   ]
  },
  {
   "cell_type": "code",
   "execution_count": 34,
   "id": "4ffc6b39",
   "metadata": {},
   "outputs": [
    {
     "data": {
      "text/plain": [
       "[<matplotlib.lines.Line2D at 0x28dda0a35e0>]"
      ]
     },
     "execution_count": 34,
     "metadata": {},
     "output_type": "execute_result"
    },
    {
     "data": {
      "image/png": "[encoded data removed]",
      "text/plain": [
       "<Figure size 432x288 with 1 Axes>"
      ]
     },
     "metadata": {
      "needs_background": "light"
     },
     "output_type": "display_data"
    }
   ],
   "source": [
    "import matplotlib as mpl\n",
    "import matplotlib.pyplot as plt\n",
    "\n",
    "plt.plot(cumsum)"
   ]
  },
  {
   "cell_type": "code",
   "execution_count": null,
   "id": "711d52b3",
   "metadata": {},
   "outputs": [],
   "source": []
  }
 ],
 "metadata": {
  "kernelspec": {
   "display_name": "Python 3 (ipykernel)",
   "language": "python",
   "name": "python3"
  },
  "language_info": {
   "codemirror_mode": {
    "name": "ipython",
    "version": 3
   },
   "file_extension": ".py",
   "mimetype": "text/x-python",
   "name": "python",
   "nbconvert_exporter": "python",
   "pygments_lexer": "ipython3",
   "version": "3.9.7"
  }
 },
 "nbformat": 4,
 "nbformat_minor": 5
}
